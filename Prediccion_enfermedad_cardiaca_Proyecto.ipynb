{
  "metadata": {
    "kernelspec": {
      "name": "python3",
      "display_name": "Python 3",
      "language": "python"
    },
    "language_info": {
      "name": "python",
      "version": "3.10.13",
      "mimetype": "text/x-python",
      "codemirror_mode": {
        "name": "ipython",
        "version": 3
      },
      "pygments_lexer": "ipython3",
      "nbconvert_exporter": "python",
      "file_extension": ".py"
    },
    "kaggle": {
      "accelerator": "gpu",
      "dataSources": [
        {
          "sourceId": 256873,
          "sourceType": "datasetVersion",
          "datasetId": 107706
        },
        {
          "sourceId": 8916474,
          "sourceType": "datasetVersion",
          "datasetId": 5362260
        }
      ],
      "dockerImageVersionId": 30732,
      "isInternetEnabled": false,
      "language": "python",
      "sourceType": "notebook",
      "isGpuEnabled": true
    },
    "colab": {
      "provenance": [],
      "include_colab_link": true
    }
  },
  "nbformat_minor": 0,
  "nbformat": 4,
  "cells": [
    {
      "cell_type": "markdown",
      "metadata": {
        "id": "view-in-github",
        "colab_type": "text"
      },
      "source": [
        "<a href=\"https://colab.research.google.com/github/AnJoGar/Prediccion_enfermedad_cardiaca_Proyecto/blob/main/Prediccion_enfermedad_cardiaca_Proyecto.ipynb\" target=\"_parent\"><img src=\"https://colab.research.google.com/assets/colab-badge.svg\" alt=\"Open In Colab\"/></a>"
      ]
    },
    {
      "cell_type": "markdown",
      "source": [
        "# **Proyecto: Predicción de probabilidad de padecimiento de enfermedad cardiovascular**\n",
        "Objetivo: Desarrollar un modelo predictivo de aprendizaje automático para identificar la presencia de enfermedad cardíaca utilizando características de salud y estilo de vida.\n"
      ],
      "metadata": {
        "id": "Bn-UfuJD4B9G"
      }
    },
    {
      "cell_type": "markdown",
      "source": [
        "# ▶ **Pasos implementado en el proyecto :**\n",
        "\n",
        "---\n",
        "\n",
        "* ✔ Observar nuestros datos, explorarlos\n",
        "* ✔ Limpieza y manejo de datos\n",
        "* ✔ Análisis exploratorio de datos\n",
        "* ✔ Modelado\n"
      ],
      "metadata": {
        "id": "IRdvk69ppFZX"
      }
    },
    {
      "cell_type": "markdown",
      "source": [
        "# ▶   **1 :  Exploración de datos**"
      ],
      "metadata": {
        "id": "SV0VGy4ME3yA"
      }
    },
    {
      "cell_type": "markdown",
      "source": [
        "### **1.1 : Importación de librerias**\n",
        "El código comienza importando las librerías necesarias para el análisis de datos, visualización, preprocesamiento, modelado, y evaluación de modelos de aprendizaje automático."
      ],
      "metadata": {
        "id": "nspmj-Mwpli5"
      }
    },
    {
      "cell_type": "code",
      "source": [
        "import pandas as pd\n",
        "import numpy as np\n",
        "import matplotlib.pyplot as plt\n",
        "import seaborn as sns\n",
        "import plotly.graph_objects as go\n",
        "import scipy\n",
        "import plotly.express as px\n",
        "from sklearn.preprocessing import LabelEncoder\n",
        "from sklearn.preprocessing import MinMaxScaler\n",
        "from sklearn.model_selection import train_test_split\n",
        "from sklearn.preprocessing import StandardScaler\n",
        "from tensorflow import keras\n",
        "from tensorflow.keras import layers, callbacks\n",
        "from joblib import dump, load\n",
        "import matplotlib.pyplot as plt"
      ],
      "metadata": {
        "id": "R6pUyvSVuR_V"
      },
      "execution_count": null,
      "outputs": []
    },
    {
      "cell_type": "markdown",
      "source": [
        "**Librerias para el arbol de desición**"
      ],
      "metadata": {
        "id": "GEuU3PbjaUu_"
      }
    },
    {
      "cell_type": "code",
      "source": [
        "from sklearn.tree import DecisionTreeClassifier\n",
        "from sklearn.metrics import accuracy_score, classification_report, confusion_matrix\n",
        "import matplotlib.pyplot as plt\n",
        "import seaborn as sns"
      ],
      "metadata": {
        "id": "tZPD4A1TbRRT"
      },
      "execution_count": null,
      "outputs": []
    },
    {
      "cell_type": "code",
      "source": [
        "# Cargar el archivo CSV con el delimitador \",\"\n",
        "df = pd.read_csv('https://raw.githubusercontent.com/AnJoGar/Proyecto_Data_Cardiovascular/main/heart_2020_cleaned.csv', sep = \",\" , encoding = 'utf-8')"
      ],
      "metadata": {
        "id": "rn3OUwLsGxiC"
      },
      "execution_count": null,
      "outputs": []
    },
    {
      "cell_type": "code",
      "source": [
        "print(df.head())"
      ],
      "metadata": {
        "id": "IxdGN-KDG9zn",
        "outputId": "1f799004-5495-42e1-8f02-f5b583dfb788",
        "colab": {
          "base_uri": "https://localhost:8080/"
        }
      },
      "execution_count": null,
      "outputs": [
        {
          "output_type": "stream",
          "name": "stdout",
          "text": [
            "  HeartDisease    BMI Smoking AlcoholDrinking Stroke  PhysicalHealth  \\\n",
            "0           No  16.60     Yes              No     No             3.0   \n",
            "1           No  20.34      No              No    Yes             0.0   \n",
            "2           No  26.58     Yes              No     No            20.0   \n",
            "3           No  24.21      No              No     No             0.0   \n",
            "4           No  23.71      No              No     No            28.0   \n",
            "\n",
            "   MentalHealth DiffWalking     Sex  AgeCategory   Race Diabetic  \\\n",
            "0          30.0          No  Female        55-59  White      Yes   \n",
            "1           0.0          No  Female  80 or older  White       No   \n",
            "2          30.0          No    Male        65-69  White      Yes   \n",
            "3           0.0          No  Female        75-79  White       No   \n",
            "4           0.0         Yes  Female        40-44  White       No   \n",
            "\n",
            "  PhysicalActivity  GenHealth  SleepTime Asthma KidneyDisease SkinCancer  \n",
            "0              Yes  Very good        5.0    Yes            No        Yes  \n",
            "1              Yes  Very good        7.0     No            No         No  \n",
            "2              Yes       Fair        8.0    Yes            No         No  \n",
            "3               No       Good        6.0     No            No        Yes  \n",
            "4              Yes  Very good        8.0     No            No         No  \n"
          ]
        }
      ]
    },
    {
      "cell_type": "markdown",
      "source": [
        "### **1.2 : Exploración de data**"
      ],
      "metadata": {
        "id": "LyOYsQs9E3yG"
      }
    },
    {
      "cell_type": "code",
      "source": [
        "# Mostrar las primeras filas del dataframe\n",
        "df.info()"
      ],
      "metadata": {
        "execution": {
          "iopub.status.busy": "2024-04-27T12:20:21.820291Z",
          "iopub.execute_input": "2024-04-27T12:20:21.820988Z",
          "iopub.status.idle": "2024-04-27T12:20:21.833948Z",
          "shell.execute_reply.started": "2024-04-27T12:20:21.820945Z",
          "shell.execute_reply": "2024-04-27T12:20:21.832906Z"
        },
        "id": "2uXsOrd8E3yG",
        "outputId": "32c5762d-2f12-458c-c9f8-d0c6684bdc19",
        "trusted": true,
        "colab": {
          "base_uri": "https://localhost:8080/"
        }
      },
      "execution_count": null,
      "outputs": [
        {
          "output_type": "stream",
          "name": "stdout",
          "text": [
            "<class 'pandas.core.frame.DataFrame'>\n",
            "RangeIndex: 319795 entries, 0 to 319794\n",
            "Data columns (total 18 columns):\n",
            " #   Column            Non-Null Count   Dtype  \n",
            "---  ------            --------------   -----  \n",
            " 0   HeartDisease      319795 non-null  object \n",
            " 1   BMI               319795 non-null  float64\n",
            " 2   Smoking           319795 non-null  object \n",
            " 3   AlcoholDrinking   319795 non-null  object \n",
            " 4   Stroke            319795 non-null  object \n",
            " 5   PhysicalHealth    319795 non-null  float64\n",
            " 6   MentalHealth      319795 non-null  float64\n",
            " 7   DiffWalking       319795 non-null  object \n",
            " 8   Sex               319795 non-null  object \n",
            " 9   AgeCategory       319795 non-null  object \n",
            " 10  Race              319795 non-null  object \n",
            " 11  Diabetic          319795 non-null  object \n",
            " 12  PhysicalActivity  319795 non-null  object \n",
            " 13  GenHealth         319795 non-null  object \n",
            " 14  SleepTime         319795 non-null  float64\n",
            " 15  Asthma            319795 non-null  object \n",
            " 16  KidneyDisease     319795 non-null  object \n",
            " 17  SkinCancer        319795 non-null  object \n",
            "dtypes: float64(4), object(14)\n",
            "memory usage: 43.9+ MB\n"
          ]
        }
      ]
    },
    {
      "cell_type": "code",
      "source": [
        "# Mostrar información general del dataframe\n",
        "print(df.columns)"
      ],
      "metadata": {
        "colab": {
          "base_uri": "https://localhost:8080/"
        },
        "id": "H2I1rvQ-fQkX",
        "outputId": "f30697d7-94c6-4e03-ab59-507d9318bf26"
      },
      "execution_count": null,
      "outputs": [
        {
          "output_type": "stream",
          "name": "stdout",
          "text": [
            "Index(['HeartDisease', 'BMI', 'Smoking', 'AlcoholDrinking', 'Stroke',\n",
            "       'PhysicalHealth', 'MentalHealth', 'DiffWalking', 'Sex', 'AgeCategory',\n",
            "       'Race', 'Diabetic', 'PhysicalActivity', 'GenHealth', 'SleepTime',\n",
            "       'Asthma', 'KidneyDisease', 'SkinCancer'],\n",
            "      dtype='object')\n"
          ]
        }
      ]
    },
    {
      "cell_type": "markdown",
      "source": [
        "# ▶ **2 : Limpieza de datos**\n",
        "\n",
        "Preparar los datos para su análisis y modelado, asegurando que sean precisos, consistentes y completos.\n",
        "\n",
        "\n"
      ],
      "metadata": {
        "id": "HVbVW_iqykEi"
      }
    },
    {
      "cell_type": "markdown",
      "source": [
        "### **2.1 : Descubrimiento de datos faltantes**"
      ],
      "metadata": {
        "id": "fM7bYB28yt7I"
      }
    },
    {
      "cell_type": "code",
      "source": [
        "# Verificar si hay valores nulos en el dataframe\n",
        "df.isnull().sum()"
      ],
      "metadata": {
        "execution": {
          "iopub.status.busy": "2024-04-27T12:20:22.175473Z",
          "iopub.execute_input": "2024-04-27T12:20:22.176256Z",
          "iopub.status.idle": "2024-04-27T12:20:22.186673Z",
          "shell.execute_reply.started": "2024-04-27T12:20:22.176202Z",
          "shell.execute_reply": "2024-04-27T12:20:22.185624Z"
        },
        "id": "XdYKYFGBE3yG",
        "outputId": "1c7b6f40-f728-4682-9c5e-1277e0196f02",
        "trusted": true,
        "colab": {
          "base_uri": "https://localhost:8080/",
          "height": 648
        }
      },
      "execution_count": null,
      "outputs": [
        {
          "output_type": "execute_result",
          "data": {
            "text/plain": [
              "HeartDisease        0\n",
              "BMI                 0\n",
              "Smoking             0\n",
              "AlcoholDrinking     0\n",
              "Stroke              0\n",
              "PhysicalHealth      0\n",
              "MentalHealth        0\n",
              "DiffWalking         0\n",
              "Sex                 0\n",
              "AgeCategory         0\n",
              "Race                0\n",
              "Diabetic            0\n",
              "PhysicalActivity    0\n",
              "GenHealth           0\n",
              "SleepTime           0\n",
              "Asthma              0\n",
              "KidneyDisease       0\n",
              "SkinCancer          0\n",
              "dtype: int64"
            ],
            "text/html": [
              "<table border=\"1\" class=\"dataframe\">\n",
              "  <thead>\n",
              "    <tr style=\"text-align: right;\">\n",
              "      <th></th>\n",
              "      <th>0</th>\n",
              "    </tr>\n",
              "  </thead>\n",
              "  <tbody>\n",
              "    <tr>\n",
              "      <th>HeartDisease</th>\n",
              "      <td>0</td>\n",
              "    </tr>\n",
              "    <tr>\n",
              "      <th>BMI</th>\n",
              "      <td>0</td>\n",
              "    </tr>\n",
              "    <tr>\n",
              "      <th>Smoking</th>\n",
              "      <td>0</td>\n",
              "    </tr>\n",
              "    <tr>\n",
              "      <th>AlcoholDrinking</th>\n",
              "      <td>0</td>\n",
              "    </tr>\n",
              "    <tr>\n",
              "      <th>Stroke</th>\n",
              "      <td>0</td>\n",
              "    </tr>\n",
              "    <tr>\n",
              "      <th>PhysicalHealth</th>\n",
              "      <td>0</td>\n",
              "    </tr>\n",
              "    <tr>\n",
              "      <th>MentalHealth</th>\n",
              "      <td>0</td>\n",
              "    </tr>\n",
              "    <tr>\n",
              "      <th>DiffWalking</th>\n",
              "      <td>0</td>\n",
              "    </tr>\n",
              "    <tr>\n",
              "      <th>Sex</th>\n",
              "      <td>0</td>\n",
              "    </tr>\n",
              "    <tr>\n",
              "      <th>AgeCategory</th>\n",
              "      <td>0</td>\n",
              "    </tr>\n",
              "    <tr>\n",
              "      <th>Race</th>\n",
              "      <td>0</td>\n",
              "    </tr>\n",
              "    <tr>\n",
              "      <th>Diabetic</th>\n",
              "      <td>0</td>\n",
              "    </tr>\n",
              "    <tr>\n",
              "      <th>PhysicalActivity</th>\n",
              "      <td>0</td>\n",
              "    </tr>\n",
              "    <tr>\n",
              "      <th>GenHealth</th>\n",
              "      <td>0</td>\n",
              "    </tr>\n",
              "    <tr>\n",
              "      <th>SleepTime</th>\n",
              "      <td>0</td>\n",
              "    </tr>\n",
              "    <tr>\n",
              "      <th>Asthma</th>\n",
              "      <td>0</td>\n",
              "    </tr>\n",
              "    <tr>\n",
              "      <th>KidneyDisease</th>\n",
              "      <td>0</td>\n",
              "    </tr>\n",
              "    <tr>\n",
              "      <th>SkinCancer</th>\n",
              "      <td>0</td>\n",
              "    </tr>\n",
              "  </tbody>\n",
              "</table><br><label><b>dtype:</b> int64</label>"
            ]
          },
          "metadata": {},
          "execution_count": 207
        }
      ]
    },
    {
      "cell_type": "markdown",
      "source": [
        "### **2.2 : Eliminación de datos duplicados y valores atípicos**"
      ],
      "metadata": {
        "id": "OQ_dX22ezCFD"
      }
    },
    {
      "cell_type": "code",
      "source": [
        "# Verificar si hay filas duplicadas\n",
        "df.duplicated().sum()"
      ],
      "metadata": {
        "execution": {
          "iopub.status.busy": "2024-04-27T12:20:23.212087Z",
          "iopub.execute_input": "2024-04-27T12:20:23.212781Z",
          "iopub.status.idle": "2024-04-27T12:20:23.237472Z",
          "shell.execute_reply.started": "2024-04-27T12:20:23.21275Z",
          "shell.execute_reply": "2024-04-27T12:20:23.236496Z"
        },
        "id": "ntgEMlohE3yH",
        "outputId": "3b05b3a7-7b7c-4a00-e36b-241b35ea5bca",
        "trusted": true,
        "colab": {
          "base_uri": "https://localhost:8080/"
        }
      },
      "execution_count": null,
      "outputs": [
        {
          "output_type": "execute_result",
          "data": {
            "text/plain": [
              "18078"
            ]
          },
          "metadata": {},
          "execution_count": 208
        }
      ]
    },
    {
      "cell_type": "code",
      "source": [
        "# Eliminar filas duplicadas\n",
        "df = df.drop_duplicates()"
      ],
      "metadata": {
        "id": "EGkTp-3fwwnp"
      },
      "execution_count": null,
      "outputs": []
    },
    {
      "cell_type": "code",
      "source": [
        "#Detectar outliers usando gráficos de caja (box plots)\n",
        "#Esto genera gráficos de caja (box plots) para cada columna numérica del\n",
        "#DataFrame df. Los gráficos de caja muestran la distribución de los datos,\n",
        "#incluyendo la mediana, los cuartiles, y los valores atípicos.\n",
        "#Esto permite detectar y visualizar valores anómalos y entender\n",
        "#la dispersión y centralidad de los datos en cada columna.\n",
        "df.plot(kind = \"box\" , subplots = True , figsize = (13,13) )"
      ],
      "metadata": {
        "id": "uYWDPhSbzHF0",
        "outputId": "d3ac098f-c8c3-4b26-a949-c4d83cdb1f90",
        "colab": {
          "base_uri": "https://localhost:8080/",
          "height": 1000
        }
      },
      "execution_count": null,
      "outputs": [
        {
          "output_type": "execute_result",
          "data": {
            "text/plain": [
              "BMI                  Axes(0.125,0.11;0.168478x0.77)\n",
              "PhysicalHealth    Axes(0.327174,0.11;0.168478x0.77)\n",
              "MentalHealth      Axes(0.529348,0.11;0.168478x0.77)\n",
              "SleepTime         Axes(0.731522,0.11;0.168478x0.77)\n",
              "dtype: object"
            ],
            "text/html": [
              "<table border=\"1\" class=\"dataframe\">\n",
              "  <thead>\n",
              "    <tr style=\"text-align: right;\">\n",
              "      <th></th>\n",
              "      <th>0</th>\n",
              "    </tr>\n",
              "  </thead>\n",
              "  <tbody>\n",
              "    <tr>\n",
              "      <th>BMI</th>\n",
              "      <td>Axes(0.125,0.11;0.168478x0.77)</td>\n",
              "    </tr>\n",
              "    <tr>\n",
              "      <th>PhysicalHealth</th>\n",
              "      <td>Axes(0.327174,0.11;0.168478x0.77)</td>\n",
              "    </tr>\n",
              "    <tr>\n",
              "      <th>MentalHealth</th>\n",
              "      <td>Axes(0.529348,0.11;0.168478x0.77)</td>\n",
              "    </tr>\n",
              "    <tr>\n",
              "      <th>SleepTime</th>\n",
              "      <td>Axes(0.731522,0.11;0.168478x0.77)</td>\n",
              "    </tr>\n",
              "  </tbody>\n",
              "</table><br><label><b>dtype:</b> object</label>"
            ]
          },
          "metadata": {},
          "execution_count": 210
        },
        {
          "output_type": "display_data",
          "data": {
            "text/plain": [
              "<Figure size 1300x1300 with 4 Axes>"
            ],
            "image/png": "[encoded data removed]"
          },
          "metadata": {}
        }
      ]
    },
    {
      "cell_type": "markdown",
      "source": [
        "# ▶ **3 : Análisis exploratorio de datos**"
      ],
      "metadata": {
        "id": "2mEErEy1zqUP"
      }
    },
    {
      "cell_type": "markdown",
      "source": [
        "**Gráfico Circular de Distribución de Género**"
      ],
      "metadata": {
        "id": "1nB2-Lrb7qGh"
      }
    },
    {
      "cell_type": "code",
      "source": [
        "# Crear un gráfico de pastel para visualizar la distribución de género\n",
        "round(df['Sex'].value_counts()/df.shape[0]*100,2).plot.pie(autopct = \"%1.2f%%\")"
      ],
      "metadata": {
        "id": "qtPXUgplz7_z",
        "outputId": "1315ee72-2f73-48b4-cdb4-f8e78cbcbe0e",
        "colab": {
          "base_uri": "https://localhost:8080/",
          "height": 424
        }
      },
      "execution_count": null,
      "outputs": [
        {
          "output_type": "execute_result",
          "data": {
            "text/plain": [
              "<Axes: ylabel='count'>"
            ]
          },
          "metadata": {},
          "execution_count": 211
        },
        {
          "output_type": "display_data",
          "data": {
            "text/plain": [
              "<Figure size 640x480 with 1 Axes>"
            ],
            "image/png": "[encoded data removed]"
          },
          "metadata": {}
        }
      ]
    },
    {
      "cell_type": "markdown",
      "source": [
        "* 0 - Femenino\n",
        "* 1 - Masculino"
      ],
      "metadata": {
        "id": "aDh4mAeO00LM"
      }
    },
    {
      "cell_type": "markdown",
      "source": [
        "**Gráfico Sunburst de Distribución de Enfermedad Cardíaca por Género**"
      ],
      "metadata": {
        "id": "jH88-cC96WIR"
      }
    },
    {
      "cell_type": "code",
      "source": [
        "# Crear un gráfico Sunburst para visualizar la relación entre enfermedad cardíaca y género\n",
        "fig = px.sunburst(df, path=['HeartDisease','Sex']).update_traces(textinfo='label+percent parent')\n",
        "fig.show()"
      ],
      "metadata": {
        "id": "CeD7VTWc0Q_T",
        "colab": {
          "base_uri": "https://localhost:8080/",
          "height": 542
        },
        "outputId": "48e669be-24bb-49a5-a6a7-022914bdb781"
      },
      "execution_count": null,
      "outputs": [
        {
          "output_type": "display_data",
          "data": {
            "text/html": [
              "<html>\n",
              "<head><meta charset=\"utf-8\" /></head>\n",
              "<body>\n",
              "    <div>            <script src=\"https://cdnjs.cloudflare.com/ajax/libs/mathjax/2.7.5/MathJax.js?config=TeX-AMS-MML_SVG\"></script><script type=\"text/javascript\">if (window.MathJax && window.MathJax.Hub && window.MathJax.Hub.Config) {window.MathJax.Hub.Config({SVG: {font: \"STIX-Web\"}});}</script>                <script type=\"text/javascript\">window.PlotlyConfig = {MathJaxConfig: 'local'};</script>\n",
              "        <script charset=\"utf-8\" src=\"https://cdn.plot.ly/plotly-2.24.1.min.js\"></script>                <div id=\"bf531c3c-eb25-4929-8111-28cbcf20e4b7\" class=\"plotly-graph-div\" style=\"height:525px; width:100%;\"></div>            <script type=\"text/javascript\">                                    window.PLOTLYENV=window.PLOTLYENV || {};                                    if (document.getElementById(\"bf531c3c-eb25-4929-8111-28cbcf20e4b7\")) {                    Plotly.newPlot(                        \"bf531c3c-eb25-4929-8111-28cbcf20e4b7\",                        [{\"branchvalues\":\"total\",\"domain\":{\"x\":[0.0,1.0],\"y\":[0.0,1.0]},\"hovertemplate\":\"labels=%{label}\\u003cbr\\u003ecount=%{value}\\u003cbr\\u003eparent=%{parent}\\u003cbr\\u003eid=%{id}\\u003cextra\\u003e\\u003c\\u002fextra\\u003e\",\"ids\":[\"No\\u002fFemale\",\"Yes\\u002fFemale\",\"No\\u002fMale\",\"Yes\\u002fMale\",\"No\",\"Yes\"],\"labels\":[\"Female\",\"Female\",\"Male\",\"Male\",\"No\",\"Yes\"],\"name\":\"\",\"parents\":[\"No\",\"Yes\",\"No\",\"Yes\",\"\",\"\"],\"values\":[148458,11213,125998,16048,274456,27261],\"type\":\"sunburst\",\"textinfo\":\"label+percent parent\"}],                        {\"template\":{\"data\":{\"histogram2dcontour\":[{\"type\":\"histogram2dcontour\",\"colorbar\":{\"outlinewidth\":0,\"ticks\":\"\"},\"colorscale\":[[0.0,\"#0d0887\"],[0.1111111111111111,\"#46039f\"],[0.2222222222222222,\"#7201a8\"],[0.3333333333333333,\"#9c179e\"],[0.4444444444444444,\"#bd3786\"],[0.5555555555555556,\"#d8576b\"],[0.6666666666666666,\"#ed7953\"],[0.7777777777777778,\"#fb9f3a\"],[0.8888888888888888,\"#fdca26\"],[1.0,\"#f0f921\"]]}],\"choropleth\":[{\"type\":\"choropleth\",\"colorbar\":{\"outlinewidth\":0,\"ticks\":\"\"}}],\"histogram2d\":[{\"type\":\"histogram2d\",\"colorbar\":{\"outlinewidth\":0,\"ticks\":\"\"},\"colorscale\":[[0.0,\"#0d0887\"],[0.1111111111111111,\"#46039f\"],[0.2222222222222222,\"#7201a8\"],[0.3333333333333333,\"#9c179e\"],[0.4444444444444444,\"#bd3786\"],[0.5555555555555556,\"#d8576b\"],[0.6666666666666666,\"#ed7953\"],[0.7777777777777778,\"#fb9f3a\"],[0.8888888888888888,\"#fdca26\"],[1.0,\"#f0f921\"]]}],\"heatmap\":[{\"type\":\"heatmap\",\"colorbar\":{\"outlinewidth\":0,\"ticks\":\"\"},\"colorscale\":[[0.0,\"#0d0887\"],[0.1111111111111111,\"#46039f\"],[0.2222222222222222,\"#7201a8\"],[0.3333333333333333,\"#9c179e\"],[0.4444444444444444,\"#bd3786\"],[0.5555555555555556,\"#d8576b\"],[0.6666666666666666,\"#ed7953\"],[0.7777777777777778,\"#fb9f3a\"],[0.8888888888888888,\"#fdca26\"],[1.0,\"#f0f921\"]]}],\"heatmapgl\":[{\"type\":\"heatmapgl\",\"colorbar\":{\"outlinewidth\":0,\"ticks\":\"\"},\"colorscale\":[[0.0,\"#0d0887\"],[0.1111111111111111,\"#46039f\"],[0.2222222222222222,\"#7201a8\"],[0.3333333333333333,\"#9c179e\"],[0.4444444444444444,\"#bd3786\"],[0.5555555555555556,\"#d8576b\"],[0.6666666666666666,\"#ed7953\"],[0.7777777777777778,\"#fb9f3a\"],[0.8888888888888888,\"#fdca26\"],[1.0,\"#f0f921\"]]}],\"contourcarpet\":[{\"type\":\"contourcarpet\",\"colorbar\":{\"outlinewidth\":0,\"ticks\":\"\"}}],\"contour\":[{\"type\":\"contour\",\"colorbar\":{\"outlinewidth\":0,\"ticks\":\"\"},\"colorscale\":[[0.0,\"#0d0887\"],[0.1111111111111111,\"#46039f\"],[0.2222222222222222,\"#7201a8\"],[0.3333333333333333,\"#9c179e\"],[0.4444444444444444,\"#bd3786\"],[0.5555555555555556,\"#d8576b\"],[0.6666666666666666,\"#ed7953\"],[0.7777777777777778,\"#fb9f3a\"],[0.8888888888888888,\"#fdca26\"],[1.0,\"#f0f921\"]]}],\"surface\":[{\"type\":\"surface\",\"colorbar\":{\"outlinewidth\":0,\"ticks\":\"\"},\"colorscale\":[[0.0,\"#0d0887\"],[0.1111111111111111,\"#46039f\"],[0.2222222222222222,\"#7201a8\"],[0.3333333333333333,\"#9c179e\"],[0.4444444444444444,\"#bd3786\"],[0.5555555555555556,\"#d8576b\"],[0.6666666666666666,\"#ed7953\"],[0.7777777777777778,\"#fb9f3a\"],[0.8888888888888888,\"#fdca26\"],[1.0,\"#f0f921\"]]}],\"mesh3d\":[{\"type\":\"mesh3d\",\"colorbar\":{\"outlinewidth\":0,\"ticks\":\"\"}}],\"scatter\":[{\"fillpattern\":{\"fillmode\":\"overlay\",\"size\":10,\"solidity\":0.2},\"type\":\"scatter\"}],\"parcoords\":[{\"type\":\"parcoords\",\"line\":{\"colorbar\":{\"outlinewidth\":0,\"ticks\":\"\"}}}],\"scatterpolargl\":[{\"type\":\"scatterpolargl\",\"marker\":{\"colorbar\":{\"outlinewidth\":0,\"ticks\":\"\"}}}],\"bar\":[{\"error_x\":{\"color\":\"#2a3f5f\"},\"error_y\":{\"color\":\"#2a3f5f\"},\"marker\":{\"line\":{\"color\":\"#E5ECF6\",\"width\":0.5},\"pattern\":{\"fillmode\":\"overlay\",\"size\":10,\"solidity\":0.2}},\"type\":\"bar\"}],\"scattergeo\":[{\"type\":\"scattergeo\",\"marker\":{\"colorbar\":{\"outlinewidth\":0,\"ticks\":\"\"}}}],\"scatterpolar\":[{\"type\":\"scatterpolar\",\"marker\":{\"colorbar\":{\"outlinewidth\":0,\"ticks\":\"\"}}}],\"histogram\":[{\"marker\":{\"pattern\":{\"fillmode\":\"overlay\",\"size\":10,\"solidity\":0.2}},\"type\":\"histogram\"}],\"scattergl\":[{\"type\":\"scattergl\",\"marker\":{\"colorbar\":{\"outlinewidth\":0,\"ticks\":\"\"}}}],\"scatter3d\":[{\"type\":\"scatter3d\",\"line\":{\"colorbar\":{\"outlinewidth\":0,\"ticks\":\"\"}},\"marker\":{\"colorbar\":{\"outlinewidth\":0,\"ticks\":\"\"}}}],\"scattermapbox\":[{\"type\":\"scattermapbox\",\"marker\":{\"colorbar\":{\"outlinewidth\":0,\"ticks\":\"\"}}}],\"scatterternary\":[{\"type\":\"scatterternary\",\"marker\":{\"colorbar\":{\"outlinewidth\":0,\"ticks\":\"\"}}}],\"scattercarpet\":[{\"type\":\"scattercarpet\",\"marker\":{\"colorbar\":{\"outlinewidth\":0,\"ticks\":\"\"}}}],\"carpet\":[{\"aaxis\":{\"endlinecolor\":\"#2a3f5f\",\"gridcolor\":\"white\",\"linecolor\":\"white\",\"minorgridcolor\":\"white\",\"startlinecolor\":\"#2a3f5f\"},\"baxis\":{\"endlinecolor\":\"#2a3f5f\",\"gridcolor\":\"white\",\"linecolor\":\"white\",\"minorgridcolor\":\"white\",\"startlinecolor\":\"#2a3f5f\"},\"type\":\"carpet\"}],\"table\":[{\"cells\":{\"fill\":{\"color\":\"#EBF0F8\"},\"line\":{\"color\":\"white\"}},\"header\":{\"fill\":{\"color\":\"#C8D4E3\"},\"line\":{\"color\":\"white\"}},\"type\":\"table\"}],\"barpolar\":[{\"marker\":{\"line\":{\"color\":\"#E5ECF6\",\"width\":0.5},\"pattern\":{\"fillmode\":\"overlay\",\"size\":10,\"solidity\":0.2}},\"type\":\"barpolar\"}],\"pie\":[{\"automargin\":true,\"type\":\"pie\"}]},\"layout\":{\"autotypenumbers\":\"strict\",\"colorway\":[\"#636efa\",\"#EF553B\",\"#00cc96\",\"#ab63fa\",\"#FFA15A\",\"#19d3f3\",\"#FF6692\",\"#B6E880\",\"#FF97FF\",\"#FECB52\"],\"font\":{\"color\":\"#2a3f5f\"},\"hovermode\":\"closest\",\"hoverlabel\":{\"align\":\"left\"},\"paper_bgcolor\":\"white\",\"plot_bgcolor\":\"#E5ECF6\",\"polar\":{\"bgcolor\":\"#E5ECF6\",\"angularaxis\":{\"gridcolor\":\"white\",\"linecolor\":\"white\",\"ticks\":\"\"},\"radialaxis\":{\"gridcolor\":\"white\",\"linecolor\":\"white\",\"ticks\":\"\"}},\"ternary\":{\"bgcolor\":\"#E5ECF6\",\"aaxis\":{\"gridcolor\":\"white\",\"linecolor\":\"white\",\"ticks\":\"\"},\"baxis\":{\"gridcolor\":\"white\",\"linecolor\":\"white\",\"ticks\":\"\"},\"caxis\":{\"gridcolor\":\"white\",\"linecolor\":\"white\",\"ticks\":\"\"}},\"coloraxis\":{\"colorbar\":{\"outlinewidth\":0,\"ticks\":\"\"}},\"colorscale\":{\"sequential\":[[0.0,\"#0d0887\"],[0.1111111111111111,\"#46039f\"],[0.2222222222222222,\"#7201a8\"],[0.3333333333333333,\"#9c179e\"],[0.4444444444444444,\"#bd3786\"],[0.5555555555555556,\"#d8576b\"],[0.6666666666666666,\"#ed7953\"],[0.7777777777777778,\"#fb9f3a\"],[0.8888888888888888,\"#fdca26\"],[1.0,\"#f0f921\"]],\"sequentialminus\":[[0.0,\"#0d0887\"],[0.1111111111111111,\"#46039f\"],[0.2222222222222222,\"#7201a8\"],[0.3333333333333333,\"#9c179e\"],[0.4444444444444444,\"#bd3786\"],[0.5555555555555556,\"#d8576b\"],[0.6666666666666666,\"#ed7953\"],[0.7777777777777778,\"#fb9f3a\"],[0.8888888888888888,\"#fdca26\"],[1.0,\"#f0f921\"]],\"diverging\":[[0,\"#8e0152\"],[0.1,\"#c51b7d\"],[0.2,\"#de77ae\"],[0.3,\"#f1b6da\"],[0.4,\"#fde0ef\"],[0.5,\"#f7f7f7\"],[0.6,\"#e6f5d0\"],[0.7,\"#b8e186\"],[0.8,\"#7fbc41\"],[0.9,\"#4d9221\"],[1,\"#276419\"]]},\"xaxis\":{\"gridcolor\":\"white\",\"linecolor\":\"white\",\"ticks\":\"\",\"title\":{\"standoff\":15},\"zerolinecolor\":\"white\",\"automargin\":true,\"zerolinewidth\":2},\"yaxis\":{\"gridcolor\":\"white\",\"linecolor\":\"white\",\"ticks\":\"\",\"title\":{\"standoff\":15},\"zerolinecolor\":\"white\",\"automargin\":true,\"zerolinewidth\":2},\"scene\":{\"xaxis\":{\"backgroundcolor\":\"#E5ECF6\",\"gridcolor\":\"white\",\"linecolor\":\"white\",\"showbackground\":true,\"ticks\":\"\",\"zerolinecolor\":\"white\",\"gridwidth\":2},\"yaxis\":{\"backgroundcolor\":\"#E5ECF6\",\"gridcolor\":\"white\",\"linecolor\":\"white\",\"showbackground\":true,\"ticks\":\"\",\"zerolinecolor\":\"white\",\"gridwidth\":2},\"zaxis\":{\"backgroundcolor\":\"#E5ECF6\",\"gridcolor\":\"white\",\"linecolor\":\"white\",\"showbackground\":true,\"ticks\":\"\",\"zerolinecolor\":\"white\",\"gridwidth\":2}},\"shapedefaults\":{\"line\":{\"color\":\"#2a3f5f\"}},\"annotationdefaults\":{\"arrowcolor\":\"#2a3f5f\",\"arrowhead\":0,\"arrowwidth\":1},\"geo\":{\"bgcolor\":\"white\",\"landcolor\":\"#E5ECF6\",\"subunitcolor\":\"white\",\"showland\":true,\"showlakes\":true,\"lakecolor\":\"white\"},\"title\":{\"x\":0.05},\"mapbox\":{\"style\":\"light\"}}},\"legend\":{\"tracegroupgap\":0},\"margin\":{\"t\":60}},                        {\"responsive\": true}                    ).then(function(){\n",
              "                            \n",
              "var gd = document.getElementById('bf531c3c-eb25-4929-8111-28cbcf20e4b7');\n",
              "var x = new MutationObserver(function (mutations, observer) {{\n",
              "        var display = window.getComputedStyle(gd).display;\n",
              "        if (!display || display === 'none') {{\n",
              "            console.log([gd, 'removed!']);\n",
              "            Plotly.purge(gd);\n",
              "            observer.disconnect();\n",
              "        }}\n",
              "}});\n",
              "\n",
              "// Listen for the removal of the full notebook cells\n",
              "var notebookContainer = gd.closest('#notebook-container');\n",
              "if (notebookContainer) {{\n",
              "    x.observe(notebookContainer, {childList: true});\n",
              "}}\n",
              "\n",
              "// Listen for the clearing of the current output cell\n",
              "var outputEl = gd.closest('.output');\n",
              "if (outputEl) {{\n",
              "    x.observe(outputEl, {childList: true});\n",
              "}}\n",
              "\n",
              "                        })                };                            </script>        </div>\n",
              "</body>\n",
              "</html>"
            ]
          },
          "metadata": {}
        }
      ]
    },
    {
      "cell_type": "markdown",
      "source": [
        "**Gráfico Sunburst de Distribución de Enfermedad Cardíaca por Actividad Física**"
      ],
      "metadata": {
        "id": "AFggJ1AS62fj"
      }
    },
    {
      "cell_type": "code",
      "source": [
        "# Crear un gráfico Sunburst para visualizar la relación entre enfermedad cardíaca y actividad física\n",
        "fig = px.sunburst(df, path=['HeartDisease','PhysicalActivity']).update_traces(textinfo='label+percent parent')\n",
        "fig.show()"
      ],
      "metadata": {
        "id": "6B62SQfo2AV6",
        "colab": {
          "base_uri": "https://localhost:8080/",
          "height": 542
        },
        "outputId": "0fdcdff2-eb81-416b-bfe2-ccd4d8ec2769"
      },
      "execution_count": null,
      "outputs": [
        {
          "output_type": "display_data",
          "data": {
            "text/html": [
              "<html>\n",
              "<head><meta charset=\"utf-8\" /></head>\n",
              "<body>\n",
              "    <div>            <script src=\"https://cdnjs.cloudflare.com/ajax/libs/mathjax/2.7.5/MathJax.js?config=TeX-AMS-MML_SVG\"></script><script type=\"text/javascript\">if (window.MathJax && window.MathJax.Hub && window.MathJax.Hub.Config) {window.MathJax.Hub.Config({SVG: {font: \"STIX-Web\"}});}</script>                <script type=\"text/javascript\">window.PlotlyConfig = {MathJaxConfig: 'local'};</script>\n",
              "        <script charset=\"utf-8\" src=\"https://cdn.plot.ly/plotly-2.24.1.min.js\"></script>                <div id=\"beae9428-15ba-4d1a-8613-785f5c71c9b1\" class=\"plotly-graph-div\" style=\"height:525px; width:100%;\"></div>            <script type=\"text/javascript\">                                    window.PLOTLYENV=window.PLOTLYENV || {};                                    if (document.getElementById(\"beae9428-15ba-4d1a-8613-785f5c71c9b1\")) {                    Plotly.newPlot(                        \"beae9428-15ba-4d1a-8613-785f5c71c9b1\",                        [{\"branchvalues\":\"total\",\"domain\":{\"x\":[0.0,1.0],\"y\":[0.0,1.0]},\"hovertemplate\":\"labels=%{label}\\u003cbr\\u003ecount=%{value}\\u003cbr\\u003eparent=%{parent}\\u003cbr\\u003eid=%{id}\\u003cextra\\u003e\\u003c\\u002fextra\\u003e\",\"ids\":[\"No\\u002fNo\",\"Yes\\u002fNo\",\"No\\u002fYes\",\"Yes\\u002fYes\",\"No\",\"Yes\"],\"labels\":[\"No\",\"No\",\"Yes\",\"Yes\",\"No\",\"Yes\"],\"name\":\"\",\"parents\":[\"No\",\"Yes\",\"No\",\"Yes\",\"\",\"\"],\"values\":[61423,9882,213033,17379,274456,27261],\"type\":\"sunburst\",\"textinfo\":\"label+percent parent\"}],                        {\"template\":{\"data\":{\"histogram2dcontour\":[{\"type\":\"histogram2dcontour\",\"colorbar\":{\"outlinewidth\":0,\"ticks\":\"\"},\"colorscale\":[[0.0,\"#0d0887\"],[0.1111111111111111,\"#46039f\"],[0.2222222222222222,\"#7201a8\"],[0.3333333333333333,\"#9c179e\"],[0.4444444444444444,\"#bd3786\"],[0.5555555555555556,\"#d8576b\"],[0.6666666666666666,\"#ed7953\"],[0.7777777777777778,\"#fb9f3a\"],[0.8888888888888888,\"#fdca26\"],[1.0,\"#f0f921\"]]}],\"choropleth\":[{\"type\":\"choropleth\",\"colorbar\":{\"outlinewidth\":0,\"ticks\":\"\"}}],\"histogram2d\":[{\"type\":\"histogram2d\",\"colorbar\":{\"outlinewidth\":0,\"ticks\":\"\"},\"colorscale\":[[0.0,\"#0d0887\"],[0.1111111111111111,\"#46039f\"],[0.2222222222222222,\"#7201a8\"],[0.3333333333333333,\"#9c179e\"],[0.4444444444444444,\"#bd3786\"],[0.5555555555555556,\"#d8576b\"],[0.6666666666666666,\"#ed7953\"],[0.7777777777777778,\"#fb9f3a\"],[0.8888888888888888,\"#fdca26\"],[1.0,\"#f0f921\"]]}],\"heatmap\":[{\"type\":\"heatmap\",\"colorbar\":{\"outlinewidth\":0,\"ticks\":\"\"},\"colorscale\":[[0.0,\"#0d0887\"],[0.1111111111111111,\"#46039f\"],[0.2222222222222222,\"#7201a8\"],[0.3333333333333333,\"#9c179e\"],[0.4444444444444444,\"#bd3786\"],[0.5555555555555556,\"#d8576b\"],[0.6666666666666666,\"#ed7953\"],[0.7777777777777778,\"#fb9f3a\"],[0.8888888888888888,\"#fdca26\"],[1.0,\"#f0f921\"]]}],\"heatmapgl\":[{\"type\":\"heatmapgl\",\"colorbar\":{\"outlinewidth\":0,\"ticks\":\"\"},\"colorscale\":[[0.0,\"#0d0887\"],[0.1111111111111111,\"#46039f\"],[0.2222222222222222,\"#7201a8\"],[0.3333333333333333,\"#9c179e\"],[0.4444444444444444,\"#bd3786\"],[0.5555555555555556,\"#d8576b\"],[0.6666666666666666,\"#ed7953\"],[0.7777777777777778,\"#fb9f3a\"],[0.8888888888888888,\"#fdca26\"],[1.0,\"#f0f921\"]]}],\"contourcarpet\":[{\"type\":\"contourcarpet\",\"colorbar\":{\"outlinewidth\":0,\"ticks\":\"\"}}],\"contour\":[{\"type\":\"contour\",\"colorbar\":{\"outlinewidth\":0,\"ticks\":\"\"},\"colorscale\":[[0.0,\"#0d0887\"],[0.1111111111111111,\"#46039f\"],[0.2222222222222222,\"#7201a8\"],[0.3333333333333333,\"#9c179e\"],[0.4444444444444444,\"#bd3786\"],[0.5555555555555556,\"#d8576b\"],[0.6666666666666666,\"#ed7953\"],[0.7777777777777778,\"#fb9f3a\"],[0.8888888888888888,\"#fdca26\"],[1.0,\"#f0f921\"]]}],\"surface\":[{\"type\":\"surface\",\"colorbar\":{\"outlinewidth\":0,\"ticks\":\"\"},\"colorscale\":[[0.0,\"#0d0887\"],[0.1111111111111111,\"#46039f\"],[0.2222222222222222,\"#7201a8\"],[0.3333333333333333,\"#9c179e\"],[0.4444444444444444,\"#bd3786\"],[0.5555555555555556,\"#d8576b\"],[0.6666666666666666,\"#ed7953\"],[0.7777777777777778,\"#fb9f3a\"],[0.8888888888888888,\"#fdca26\"],[1.0,\"#f0f921\"]]}],\"mesh3d\":[{\"type\":\"mesh3d\",\"colorbar\":{\"outlinewidth\":0,\"ticks\":\"\"}}],\"scatter\":[{\"fillpattern\":{\"fillmode\":\"overlay\",\"size\":10,\"solidity\":0.2},\"type\":\"scatter\"}],\"parcoords\":[{\"type\":\"parcoords\",\"line\":{\"colorbar\":{\"outlinewidth\":0,\"ticks\":\"\"}}}],\"scatterpolargl\":[{\"type\":\"scatterpolargl\",\"marker\":{\"colorbar\":{\"outlinewidth\":0,\"ticks\":\"\"}}}],\"bar\":[{\"error_x\":{\"color\":\"#2a3f5f\"},\"error_y\":{\"color\":\"#2a3f5f\"},\"marker\":{\"line\":{\"color\":\"#E5ECF6\",\"width\":0.5},\"pattern\":{\"fillmode\":\"overlay\",\"size\":10,\"solidity\":0.2}},\"type\":\"bar\"}],\"scattergeo\":[{\"type\":\"scattergeo\",\"marker\":{\"colorbar\":{\"outlinewidth\":0,\"ticks\":\"\"}}}],\"scatterpolar\":[{\"type\":\"scatterpolar\",\"marker\":{\"colorbar\":{\"outlinewidth\":0,\"ticks\":\"\"}}}],\"histogram\":[{\"marker\":{\"pattern\":{\"fillmode\":\"overlay\",\"size\":10,\"solidity\":0.2}},\"type\":\"histogram\"}],\"scattergl\":[{\"type\":\"scattergl\",\"marker\":{\"colorbar\":{\"outlinewidth\":0,\"ticks\":\"\"}}}],\"scatter3d\":[{\"type\":\"scatter3d\",\"line\":{\"colorbar\":{\"outlinewidth\":0,\"ticks\":\"\"}},\"marker\":{\"colorbar\":{\"outlinewidth\":0,\"ticks\":\"\"}}}],\"scattermapbox\":[{\"type\":\"scattermapbox\",\"marker\":{\"colorbar\":{\"outlinewidth\":0,\"ticks\":\"\"}}}],\"scatterternary\":[{\"type\":\"scatterternary\",\"marker\":{\"colorbar\":{\"outlinewidth\":0,\"ticks\":\"\"}}}],\"scattercarpet\":[{\"type\":\"scattercarpet\",\"marker\":{\"colorbar\":{\"outlinewidth\":0,\"ticks\":\"\"}}}],\"carpet\":[{\"aaxis\":{\"endlinecolor\":\"#2a3f5f\",\"gridcolor\":\"white\",\"linecolor\":\"white\",\"minorgridcolor\":\"white\",\"startlinecolor\":\"#2a3f5f\"},\"baxis\":{\"endlinecolor\":\"#2a3f5f\",\"gridcolor\":\"white\",\"linecolor\":\"white\",\"minorgridcolor\":\"white\",\"startlinecolor\":\"#2a3f5f\"},\"type\":\"carpet\"}],\"table\":[{\"cells\":{\"fill\":{\"color\":\"#EBF0F8\"},\"line\":{\"color\":\"white\"}},\"header\":{\"fill\":{\"color\":\"#C8D4E3\"},\"line\":{\"color\":\"white\"}},\"type\":\"table\"}],\"barpolar\":[{\"marker\":{\"line\":{\"color\":\"#E5ECF6\",\"width\":0.5},\"pattern\":{\"fillmode\":\"overlay\",\"size\":10,\"solidity\":0.2}},\"type\":\"barpolar\"}],\"pie\":[{\"automargin\":true,\"type\":\"pie\"}]},\"layout\":{\"autotypenumbers\":\"strict\",\"colorway\":[\"#636efa\",\"#EF553B\",\"#00cc96\",\"#ab63fa\",\"#FFA15A\",\"#19d3f3\",\"#FF6692\",\"#B6E880\",\"#FF97FF\",\"#FECB52\"],\"font\":{\"color\":\"#2a3f5f\"},\"hovermode\":\"closest\",\"hoverlabel\":{\"align\":\"left\"},\"paper_bgcolor\":\"white\",\"plot_bgcolor\":\"#E5ECF6\",\"polar\":{\"bgcolor\":\"#E5ECF6\",\"angularaxis\":{\"gridcolor\":\"white\",\"linecolor\":\"white\",\"ticks\":\"\"},\"radialaxis\":{\"gridcolor\":\"white\",\"linecolor\":\"white\",\"ticks\":\"\"}},\"ternary\":{\"bgcolor\":\"#E5ECF6\",\"aaxis\":{\"gridcolor\":\"white\",\"linecolor\":\"white\",\"ticks\":\"\"},\"baxis\":{\"gridcolor\":\"white\",\"linecolor\":\"white\",\"ticks\":\"\"},\"caxis\":{\"gridcolor\":\"white\",\"linecolor\":\"white\",\"ticks\":\"\"}},\"coloraxis\":{\"colorbar\":{\"outlinewidth\":0,\"ticks\":\"\"}},\"colorscale\":{\"sequential\":[[0.0,\"#0d0887\"],[0.1111111111111111,\"#46039f\"],[0.2222222222222222,\"#7201a8\"],[0.3333333333333333,\"#9c179e\"],[0.4444444444444444,\"#bd3786\"],[0.5555555555555556,\"#d8576b\"],[0.6666666666666666,\"#ed7953\"],[0.7777777777777778,\"#fb9f3a\"],[0.8888888888888888,\"#fdca26\"],[1.0,\"#f0f921\"]],\"sequentialminus\":[[0.0,\"#0d0887\"],[0.1111111111111111,\"#46039f\"],[0.2222222222222222,\"#7201a8\"],[0.3333333333333333,\"#9c179e\"],[0.4444444444444444,\"#bd3786\"],[0.5555555555555556,\"#d8576b\"],[0.6666666666666666,\"#ed7953\"],[0.7777777777777778,\"#fb9f3a\"],[0.8888888888888888,\"#fdca26\"],[1.0,\"#f0f921\"]],\"diverging\":[[0,\"#8e0152\"],[0.1,\"#c51b7d\"],[0.2,\"#de77ae\"],[0.3,\"#f1b6da\"],[0.4,\"#fde0ef\"],[0.5,\"#f7f7f7\"],[0.6,\"#e6f5d0\"],[0.7,\"#b8e186\"],[0.8,\"#7fbc41\"],[0.9,\"#4d9221\"],[1,\"#276419\"]]},\"xaxis\":{\"gridcolor\":\"white\",\"linecolor\":\"white\",\"ticks\":\"\",\"title\":{\"standoff\":15},\"zerolinecolor\":\"white\",\"automargin\":true,\"zerolinewidth\":2},\"yaxis\":{\"gridcolor\":\"white\",\"linecolor\":\"white\",\"ticks\":\"\",\"title\":{\"standoff\":15},\"zerolinecolor\":\"white\",\"automargin\":true,\"zerolinewidth\":2},\"scene\":{\"xaxis\":{\"backgroundcolor\":\"#E5ECF6\",\"gridcolor\":\"white\",\"linecolor\":\"white\",\"showbackground\":true,\"ticks\":\"\",\"zerolinecolor\":\"white\",\"gridwidth\":2},\"yaxis\":{\"backgroundcolor\":\"#E5ECF6\",\"gridcolor\":\"white\",\"linecolor\":\"white\",\"showbackground\":true,\"ticks\":\"\",\"zerolinecolor\":\"white\",\"gridwidth\":2},\"zaxis\":{\"backgroundcolor\":\"#E5ECF6\",\"gridcolor\":\"white\",\"linecolor\":\"white\",\"showbackground\":true,\"ticks\":\"\",\"zerolinecolor\":\"white\",\"gridwidth\":2}},\"shapedefaults\":{\"line\":{\"color\":\"#2a3f5f\"}},\"annotationdefaults\":{\"arrowcolor\":\"#2a3f5f\",\"arrowhead\":0,\"arrowwidth\":1},\"geo\":{\"bgcolor\":\"white\",\"landcolor\":\"#E5ECF6\",\"subunitcolor\":\"white\",\"showland\":true,\"showlakes\":true,\"lakecolor\":\"white\"},\"title\":{\"x\":0.05},\"mapbox\":{\"style\":\"light\"}}},\"legend\":{\"tracegroupgap\":0},\"margin\":{\"t\":60}},                        {\"responsive\": true}                    ).then(function(){\n",
              "                            \n",
              "var gd = document.getElementById('beae9428-15ba-4d1a-8613-785f5c71c9b1');\n",
              "var x = new MutationObserver(function (mutations, observer) {{\n",
              "        var display = window.getComputedStyle(gd).display;\n",
              "        if (!display || display === 'none') {{\n",
              "            console.log([gd, 'removed!']);\n",
              "            Plotly.purge(gd);\n",
              "            observer.disconnect();\n",
              "        }}\n",
              "}});\n",
              "\n",
              "// Listen for the removal of the full notebook cells\n",
              "var notebookContainer = gd.closest('#notebook-container');\n",
              "if (notebookContainer) {{\n",
              "    x.observe(notebookContainer, {childList: true});\n",
              "}}\n",
              "\n",
              "// Listen for the clearing of the current output cell\n",
              "var outputEl = gd.closest('.output');\n",
              "if (outputEl) {{\n",
              "    x.observe(outputEl, {childList: true});\n",
              "}}\n",
              "\n",
              "                        })                };                            </script>        </div>\n",
              "</body>\n",
              "</html>"
            ]
          },
          "metadata": {}
        }
      ]
    },
    {
      "cell_type": "markdown",
      "source": [
        "# ▶ **4 : Modelado**\n",
        "Construir, entrenar, y evaluar modelos de aprendizaje automático para predecir o clasificar los datos."
      ],
      "metadata": {
        "id": "JRo7d96lHP8G"
      }
    },
    {
      "cell_type": "markdown",
      "source": [
        "**Variables de entrada**\n",
        "\n",
        "HeartDisease:\n",
        "\n",
        "* Descripción: Indica si la persona tiene enfermedad cardíaca.\n",
        "\n",
        "* Valores: 0 (No) o 1 (Sí).\n",
        "\n",
        "BMI (Índice de Masa Corporal):\n",
        "\n",
        "* Descripción: Medida del peso corporal en relación con la altura de la persona. Se calcula como el peso en kilogramos dividido por la altura en metros cuadrados.\n",
        "\n",
        "* Valores: Numéricos (pueden variar ampliamente).\n",
        "\n",
        "Smoking:\n",
        "\n",
        "* Descripción: Indica el nivel de consumo de tabaco.\n",
        "\n",
        "* Valores: Generalmente 0 (No fumador) y 1 (Fumador). El valor 2 podría ser una categoría adicional como \"Ex-fumador\" o \"Fumador ocasional\".\n",
        "\n",
        "AlcoholDrinking:\n",
        "\n",
        "* Descripción: Indica si la persona consume alcohol.\n",
        "\n",
        "* Valores: 0 (No) o 1 (Sí).\n",
        "\n",
        "Stroke:\n",
        "\n",
        "* Descripción: Indica si la persona ha tenido un derrame cerebral (accidente cerebrovascular).\n",
        "\n",
        "* Valores: 0 (No) o 1 (Sí).\n",
        "\n",
        "PhysicalHealth:\n",
        "\n",
        "* Descripción: Número de días en el último mes en que la salud física de la persona se consideró mala.\n",
        "\n",
        "* Valores: Numéricos (0 y mayores).\n",
        "\n",
        "MentalHealth:\n",
        "\n",
        "* Descripción: Número de días en el último mes en que la salud mental de la persona se consideró mala.\n",
        "\n",
        "* Valores: Numéricos (0 y mayores).\n",
        "\n",
        "DiffWalking:\n",
        "\n",
        "* Descripción: Indica si la persona tiene dificultades para caminar.\n",
        "\n",
        "* Valores: 0 (No) o 1 (Sí).\n",
        "\n",
        "Sex:\n",
        "\n",
        "* Descripción: Sexo de la persona.\n",
        "\n",
        "* Valores: 0 (Femenino) y 1 (Masculino).\n",
        "\n",
        "AgeCategory:\n",
        "\n",
        "* Descripción: Categoría de edad de la persona. Esto podría ser una codificación de rangos de edad.\n",
        "\n",
        "* Valores: Generalmente numéricos que representan diferentes rangos de edad.\n",
        "\n",
        "Race:\n",
        "\n",
        "* Descripción: Raza o etnicidad de la persona.\n",
        "\n",
        "* Valores: Codificación numérica para diferentes categorías raciales o étnicas.\n",
        "\n",
        "Diabetic:\n",
        "\n",
        "* Descripción: Indica si la persona tiene diabetes.\n",
        "\n",
        "* Valores: 0 (No) o 1 (Sí).\n",
        "\n",
        "PhysicalActivity:\n",
        "\n",
        "* Descripción: Indica si la persona realiza actividad física regular.\n",
        "\n",
        "* Valores: 0 (No) o 1 (Sí).\n",
        "\n",
        "GenHealth:\n",
        "\n",
        "* Descripción: Autoevaluación de la salud general.\n",
        "\n",
        "* Valores: Generalmente numéricos en una escala (por ejemplo, 1 a 5).\n",
        "\n",
        "SleepTime:\n",
        "\n",
        "* Descripción: Promedio de horas de sueño por noche.\n",
        "\n",
        "* Valores: Numéricos (horas de sueño).\n",
        "\n",
        "Asthma:\n",
        "\n",
        "* Descripción: Indica si la persona tiene asma.\n",
        "\n",
        "* Valores: 0 (No) o 1 (Sí).\n",
        "\n",
        "KidneyDisease:\n",
        "\n",
        "* Descripción: Indica si la persona tiene enfermedad renal.\n",
        "\n",
        "* Valores: 0 (No) o 1 (Sí).\n",
        "\n",
        "SkinCancer:\n",
        "\n",
        "* Descripción: Indica si la persona tiene cáncer de piel.\n",
        "\n",
        "* Valores: 0 (No) o 1 (Sí).\n",
        "\n",
        "**Variables de salida**\n",
        "* HeartDisease: probabilidad de que una persona tenga una enfermedad cardíaca dado un conjunto de características."
      ],
      "metadata": {
        "id": "s2V437lhvB5J"
      }
    },
    {
      "cell_type": "code",
      "source": [
        "#Variables codificadas para tratarlas como números\n",
        "# Lista de columnas categóricas\n",
        "categorical_columns = [\n",
        "    'HeartDisease', 'Smoking', 'AlcoholDrinking', 'Stroke', 'DiffWalking',\n",
        "    'Sex', 'AgeCategory', 'Race', 'Diabetic', 'PhysicalActivity', 'GenHealth',\n",
        "    'Asthma', 'KidneyDisease', 'SkinCancer'\n",
        "]\n",
        "\n",
        "# Codificar variables categóricas\n",
        "label_encoders = {}\n",
        "for column in categorical_columns:\n",
        "    if df[column].dtype == 'object':  # Verifica si la columna es de tipo objeto\n",
        "        le = LabelEncoder()\n",
        "        df[column] = le.fit_transform(df[column])\n",
        "        label_encoders[column] = le\n",
        "\n",
        "# Mostrar la codificación de variables categóricas después de la transformación\n",
        "print(\"Después de la codificación:\")\n",
        "print(df.head())"
      ],
      "metadata": {
        "colab": {
          "base_uri": "https://localhost:8080/"
        },
        "id": "_n2w-C3j5m2Y",
        "outputId": "883fb1b7-7cfe-4e86-aab2-6c38fca0af60"
      },
      "execution_count": null,
      "outputs": [
        {
          "output_type": "stream",
          "name": "stdout",
          "text": [
            "Después de la codificación:\n",
            "   HeartDisease    BMI  Smoking  AlcoholDrinking  Stroke  PhysicalHealth  \\\n",
            "0             0  16.60        1                0       0             3.0   \n",
            "1             0  20.34        0                0       1             0.0   \n",
            "2             0  26.58        1                0       0            20.0   \n",
            "3             0  24.21        0                0       0             0.0   \n",
            "4             0  23.71        0                0       0            28.0   \n",
            "\n",
            "   MentalHealth  DiffWalking  Sex  AgeCategory  Race  Diabetic  \\\n",
            "0          30.0            0    0            7     5         2   \n",
            "1           0.0            0    0           12     5         0   \n",
            "2          30.0            0    1            9     5         2   \n",
            "3           0.0            0    0           11     5         0   \n",
            "4           0.0            1    0            4     5         0   \n",
            "\n",
            "   PhysicalActivity  GenHealth  SleepTime  Asthma  KidneyDisease  SkinCancer  \n",
            "0                 1          4        5.0       1              0           1  \n",
            "1                 1          4        7.0       0              0           0  \n",
            "2                 1          1        8.0       1              0           0  \n",
            "3                 0          2        6.0       0              0           1  \n",
            "4                 1          4        8.0       0              0           0  \n"
          ]
        }
      ]
    },
    {
      "cell_type": "markdown",
      "source": [
        "### **4.1 : Arbol de decisión**"
      ],
      "metadata": {
        "id": "jnHh2DSQgPiZ"
      }
    },
    {
      "cell_type": "code",
      "source": [
        "# Implementación del Árbol de Decisión\n",
        "\n",
        "# Convertir variables categóricas a valores numéricos usando LabelEncoder\n",
        "lst = list(df.select_dtypes(\"object\").columns)\n",
        "lst\n",
        "for i in lst:\n",
        "    lb = LabelEncoder()\n",
        "    df[i] = lb.fit_transform(df[i])\n",
        "\n",
        "# Separar características (X) y etiqueta (y)\n",
        "X = df.drop(['HeartDisease'], axis=1)\n",
        "y = df['HeartDisease']\n",
        "\n",
        "# Dividir los datos en conjuntos de entrenamiento y prueba\n",
        "X_train, X_test, y_train, y_test = train_test_split(X, y, test_size=0.2, random_state=42)\n",
        "\n",
        "# Normalizar características numéricas\n",
        "scaler = StandardScaler()\n",
        "X_train_scaled = scaler.fit_transform(X_train)\n",
        "X_test_scaled = scaler.transform(X_test)\n",
        "\n",
        "# Crear y entrenar el modelo de árbol de decisión\n",
        "tree_model = DecisionTreeClassifier(random_state=42)\n",
        "tree_model.fit(X_train_scaled, y_train)\n",
        "\n",
        "# Realizar predicciones en el conjunto de prueba\n",
        "y_pred_tree = tree_model.predict(X_test_scaled)\n",
        "\n",
        "# Calcular la precisión del árbol de decisión\n",
        "tree_accuracy = accuracy_score(y_test, y_pred_tree)\n",
        "print(f'Test Accuracy (Decision Tree): {tree_accuracy}')\n",
        "print(classification_report(y_test, y_pred_tree))\n",
        "\n",
        "# Graficar la matriz de confusión para el árbol de decisión\n",
        "conf_matrix = confusion_matrix(y_test, y_pred_tree)\n",
        "plt.figure(figsize=(8, 6))\n",
        "sns.heatmap(conf_matrix, annot=True, fmt='d', cmap='Blues')\n",
        "plt.xlabel('Predicted')\n",
        "plt.ylabel('Actual')\n",
        "plt.title('Confusion Matrix - Decision Tree')\n",
        "plt.show()\n",
        "\n"
      ],
      "metadata": {
        "id": "Wjc4FKuugfvW",
        "colab": {
          "base_uri": "https://localhost:8080/",
          "height": 749
        },
        "outputId": "6b008b82-5662-44f3-82a9-f9e5ea539820"
      },
      "execution_count": null,
      "outputs": [
        {
          "output_type": "stream",
          "name": "stdout",
          "text": [
            "Test Accuracy (Decision Tree): 0.8530922709797163\n",
            "              precision    recall  f1-score   support\n",
            "\n",
            "           0       0.92      0.91      0.92     54894\n",
            "           1       0.22      0.24      0.23      5450\n",
            "\n",
            "    accuracy                           0.85     60344\n",
            "   macro avg       0.57      0.58      0.57     60344\n",
            "weighted avg       0.86      0.85      0.86     60344\n",
            "\n"
          ]
        },
        {
          "output_type": "display_data",
          "data": {
            "text/plain": [
              "<Figure size 800x600 with 2 Axes>"
            ],
            "image/png": "[encoded data removed]"
          },
          "metadata": {}
        }
      ]
    },
    {
      "cell_type": "markdown",
      "source": [
        "### **4.2 : ANN (Red neuronal artificial)**"
      ],
      "metadata": {
        "id": "d0orGRhOtpbn"
      }
    },
    {
      "cell_type": "markdown",
      "source": [
        "**Modelo de red neuronal artifical 1**"
      ],
      "metadata": {
        "id": "Gu24zj0XK7rZ"
      }
    },
    {
      "cell_type": "code",
      "source": [
        "# Convertir variables categóricas a valores numéricos usando LabelEncoder\n",
        "lst = list(df.select_dtypes(\"object\").columns)\n",
        "lst"
      ],
      "metadata": {
        "id": "LkwQOiWnJB-R",
        "colab": {
          "base_uri": "https://localhost:8080/"
        },
        "outputId": "3cf6be0b-e125-4366-87db-8aece94aaced"
      },
      "execution_count": null,
      "outputs": [
        {
          "output_type": "execute_result",
          "data": {
            "text/plain": [
              "[]"
            ]
          },
          "metadata": {},
          "execution_count": 216
        }
      ]
    },
    {
      "cell_type": "code",
      "source": [
        "\n",
        "for i in lst:\n",
        "    lb = LabelEncoder()\n",
        "    df[i] = lb.fit_transform(df[i])"
      ],
      "metadata": {
        "id": "nodQe7wDIaXh"
      },
      "execution_count": null,
      "outputs": []
    },
    {
      "cell_type": "code",
      "source": [
        "# Separar características (X) y etiqueta (y)\n",
        "X = df.drop(['HeartDisease'], axis=1)\n",
        "y = df['HeartDisease']"
      ],
      "metadata": {
        "id": "k3IUn4AytjT3"
      },
      "execution_count": null,
      "outputs": []
    },
    {
      "cell_type": "code",
      "source": [
        "# Dividir los datos en conjuntos de entrenamiento y prueba\n",
        "X_train, X_test, y_train, y_test = train_test_split(X, y, test_size=0.2, random_state=42)"
      ],
      "metadata": {
        "execution": {
          "iopub.status.busy": "2024-04-27T12:28:48.690886Z",
          "iopub.execute_input": "2024-04-27T12:28:48.691258Z",
          "iopub.status.idle": "2024-04-27T12:28:48.708724Z",
          "shell.execute_reply.started": "2024-04-27T12:28:48.69123Z",
          "shell.execute_reply": "2024-04-27T12:28:48.707904Z"
        },
        "id": "d3gxonX0E3yK",
        "trusted": true
      },
      "execution_count": null,
      "outputs": []
    },
    {
      "cell_type": "code",
      "source": [
        "# Normalizar características numéricas\n",
        "scaler = StandardScaler()\n",
        "X_train_scaled = scaler.fit_transform(X_train)\n",
        "X_test_scaled = scaler.transform(X_test)\n",
        "dump(scaler, 'scaler.pkl')"
      ],
      "metadata": {
        "execution": {
          "iopub.status.busy": "2024-04-27T12:28:49.882198Z",
          "iopub.execute_input": "2024-04-27T12:28:49.882577Z",
          "iopub.status.idle": "2024-04-27T12:28:49.900343Z",
          "shell.execute_reply.started": "2024-04-27T12:28:49.882551Z",
          "shell.execute_reply": "2024-04-27T12:28:49.899572Z"
        },
        "id": "ukfw2ww_E3yK",
        "trusted": true,
        "colab": {
          "base_uri": "https://localhost:8080/"
        },
        "outputId": "624e52ff-82fd-4fd5-b45a-f5741544efcc"
      },
      "execution_count": null,
      "outputs": [
        {
          "output_type": "execute_result",
          "data": {
            "text/plain": [
              "['scaler.pkl']"
            ]
          },
          "metadata": {},
          "execution_count": 220
        }
      ]
    },
    {
      "cell_type": "code",
      "source": [
        "X_train.shape"
      ],
      "metadata": {
        "id": "wR7J5irqZ_5Z",
        "colab": {
          "base_uri": "https://localhost:8080/"
        },
        "outputId": "90547bcf-9efa-4e07-cdb8-33d4a77ace40"
      },
      "execution_count": null,
      "outputs": [
        {
          "output_type": "execute_result",
          "data": {
            "text/plain": [
              "(241373, 17)"
            ]
          },
          "metadata": {},
          "execution_count": 221
        }
      ]
    },
    {
      "cell_type": "code",
      "source": [
        "# Construir un modelo de red neuronal avanzada\n",
        "model = keras.Sequential([\n",
        "    layers.Dense(256, activation='relu', input_shape=[X_train.shape[1]]),\n",
        "    layers.BatchNormalization(),\n",
        "    layers.Dropout(0.5),\n",
        "    layers.Dense(128, activation='relu'),\n",
        "    layers.BatchNormalization(),\n",
        "    layers.Dropout(0.5),\n",
        "    layers.Dense(64, activation='relu'),\n",
        "    layers.BatchNormalization(),\n",
        "    layers.Dropout(0.5),\n",
        "    layers.Dense(32, activation='relu'),\n",
        "    layers.BatchNormalization(),\n",
        "    layers.Dropout(0.5),\n",
        "    layers.Dense(1, activation='sigmoid')\n",
        "])\n"
      ],
      "metadata": {
        "execution": {
          "iopub.status.busy": "2024-04-27T12:28:53.683404Z",
          "iopub.execute_input": "2024-04-27T12:28:53.684233Z",
          "iopub.status.idle": "2024-04-27T12:28:53.785394Z",
          "shell.execute_reply.started": "2024-04-27T12:28:53.684171Z",
          "shell.execute_reply": "2024-04-27T12:28:53.784342Z"
        },
        "id": "550J45t7E3yL",
        "trusted": true
      },
      "execution_count": null,
      "outputs": []
    },
    {
      "cell_type": "code",
      "source": [
        "# Compilar el modelo con el optimizador Adam y la función de pérdida binary_crossentropy\n",
        "model.compile(optimizer=keras.optimizers.Adam(learning_rate=0.001),\n",
        "              loss='binary_crossentropy',\n",
        "              metrics=['accuracy'])"
      ],
      "metadata": {
        "execution": {
          "iopub.status.busy": "2024-04-27T12:28:53.957782Z",
          "iopub.execute_input": "2024-04-27T12:28:53.958531Z",
          "iopub.status.idle": "2024-04-27T12:28:53.968223Z",
          "shell.execute_reply.started": "2024-04-27T12:28:53.958496Z",
          "shell.execute_reply": "2024-04-27T12:28:53.967176Z"
        },
        "id": "7B9mybkpE3yL",
        "trusted": true
      },
      "execution_count": null,
      "outputs": []
    },
    {
      "cell_type": "code",
      "source": [
        "# Definir un callback para detener el entrenamiento temprano si no hay mejoras\n",
        "early_stopping = callbacks.EarlyStopping(\n",
        "    monitor='val_loss', patience=5, restore_best_weights=True\n",
        ")"
      ],
      "metadata": {
        "execution": {
          "iopub.status.busy": "2024-04-27T12:28:54.325893Z",
          "iopub.execute_input": "2024-04-27T12:28:54.326666Z",
          "iopub.status.idle": "2024-04-27T12:28:54.331433Z",
          "shell.execute_reply.started": "2024-04-27T12:28:54.326635Z",
          "shell.execute_reply": "2024-04-27T12:28:54.330183Z"
        },
        "id": "Tcil_U-mE3yL",
        "trusted": true
      },
      "execution_count": null,
      "outputs": []
    },
    {
      "cell_type": "code",
      "source": [
        "# Entrenar el modelo\n",
        "history = model.fit(X_train_scaled, y_train, epochs=15, batch_size=64,\n",
        "                    validation_split=0.2, callbacks=[early_stopping])"
      ],
      "metadata": {
        "execution": {
          "iopub.status.busy": "2024-04-27T12:28:54.630039Z",
          "iopub.execute_input": "2024-04-27T12:28:54.631007Z",
          "iopub.status.idle": "2024-04-27T12:29:31.377286Z",
          "shell.execute_reply.started": "2024-04-27T12:28:54.630967Z",
          "shell.execute_reply": "2024-04-27T12:29:31.37636Z"
        },
        "id": "sFVJDu_6E3yM",
        "trusted": true,
        "colab": {
          "base_uri": "https://localhost:8080/"
        },
        "outputId": "9b15e8bf-f6dc-4405-d148-85de09ff7c2c"
      },
      "execution_count": null,
      "outputs": [
        {
          "output_type": "stream",
          "name": "stdout",
          "text": [
            "Epoch 1/15\n",
            "\u001b[1m3018/3018\u001b[0m \u001b[32m━━━━━━━━━━━━━━━━━━━━\u001b[0m\u001b[37m\u001b[0m \u001b[1m12s\u001b[0m 3ms/step - accuracy: 0.8280 - loss: 0.4244 - val_accuracy: 0.9089 - val_loss: 0.2443\n",
            "Epoch 2/15\n",
            "\u001b[1m3018/3018\u001b[0m \u001b[32m━━━━━━━━━━━━━━━━━━━━\u001b[0m\u001b[37m\u001b[0m \u001b[1m10s\u001b[0m 3ms/step - accuracy: 0.9086 - loss: 0.2535 - val_accuracy: 0.9096 - val_loss: 0.2413\n",
            "Epoch 3/15\n",
            "\u001b[1m3018/3018\u001b[0m \u001b[32m━━━━━━━━━━━━━━━━━━━━\u001b[0m\u001b[37m\u001b[0m \u001b[1m11s\u001b[0m 3ms/step - accuracy: 0.9098 - loss: 0.2471 - val_accuracy: 0.9100 - val_loss: 0.2413\n",
            "Epoch 4/15\n",
            "\u001b[1m3018/3018\u001b[0m \u001b[32m━━━━━━━━━━━━━━━━━━━━\u001b[0m\u001b[37m\u001b[0m \u001b[1m10s\u001b[0m 3ms/step - accuracy: 0.9099 - loss: 0.2456 - val_accuracy: 0.9090 - val_loss: 0.2413\n",
            "Epoch 5/15\n",
            "\u001b[1m3018/3018\u001b[0m \u001b[32m━━━━━━━━━━━━━━━━━━━━\u001b[0m\u001b[37m\u001b[0m \u001b[1m11s\u001b[0m 3ms/step - accuracy: 0.9098 - loss: 0.2442 - val_accuracy: 0.9099 - val_loss: 0.2396\n",
            "Epoch 6/15\n",
            "\u001b[1m3018/3018\u001b[0m \u001b[32m━━━━━━━━━━━━━━━━━━━━\u001b[0m\u001b[37m\u001b[0m \u001b[1m9s\u001b[0m 3ms/step - accuracy: 0.9111 - loss: 0.2417 - val_accuracy: 0.9100 - val_loss: 0.2395\n",
            "Epoch 7/15\n",
            "\u001b[1m3018/3018\u001b[0m \u001b[32m━━━━━━━━━━━━━━━━━━━━\u001b[0m\u001b[37m\u001b[0m \u001b[1m11s\u001b[0m 4ms/step - accuracy: 0.9094 - loss: 0.2439 - val_accuracy: 0.9098 - val_loss: 0.2394\n",
            "Epoch 8/15\n",
            "\u001b[1m3018/3018\u001b[0m \u001b[32m━━━━━━━━━━━━━━━━━━━━\u001b[0m\u001b[37m\u001b[0m \u001b[1m10s\u001b[0m 3ms/step - accuracy: 0.9109 - loss: 0.2405 - val_accuracy: 0.9100 - val_loss: 0.2388\n",
            "Epoch 9/15\n",
            "\u001b[1m3018/3018\u001b[0m \u001b[32m━━━━━━━━━━━━━━━━━━━━\u001b[0m\u001b[37m\u001b[0m \u001b[1m10s\u001b[0m 3ms/step - accuracy: 0.9107 - loss: 0.2418 - val_accuracy: 0.9097 - val_loss: 0.2390\n",
            "Epoch 10/15\n",
            "\u001b[1m3018/3018\u001b[0m \u001b[32m━━━━━━━━━━━━━━━━━━━━\u001b[0m\u001b[37m\u001b[0m \u001b[1m11s\u001b[0m 3ms/step - accuracy: 0.9094 - loss: 0.2423 - val_accuracy: 0.9094 - val_loss: 0.2392\n",
            "Epoch 11/15\n",
            "\u001b[1m3018/3018\u001b[0m \u001b[32m━━━━━━━━━━━━━━━━━━━━\u001b[0m\u001b[37m\u001b[0m \u001b[1m10s\u001b[0m 3ms/step - accuracy: 0.9097 - loss: 0.2428 - val_accuracy: 0.9100 - val_loss: 0.2391\n",
            "Epoch 12/15\n",
            "\u001b[1m3018/3018\u001b[0m \u001b[32m━━━━━━━━━━━━━━━━━━━━\u001b[0m\u001b[37m\u001b[0m \u001b[1m11s\u001b[0m 3ms/step - accuracy: 0.9096 - loss: 0.2419 - val_accuracy: 0.9100 - val_loss: 0.2387\n",
            "Epoch 13/15\n",
            "\u001b[1m3018/3018\u001b[0m \u001b[32m━━━━━━━━━━━━━━━━━━━━\u001b[0m\u001b[37m\u001b[0m \u001b[1m16s\u001b[0m 5ms/step - accuracy: 0.9096 - loss: 0.2416 - val_accuracy: 0.9094 - val_loss: 0.2394\n",
            "Epoch 14/15\n",
            "\u001b[1m3018/3018\u001b[0m \u001b[32m━━━━━━━━━━━━━━━━━━━━\u001b[0m\u001b[37m\u001b[0m \u001b[1m10s\u001b[0m 3ms/step - accuracy: 0.9091 - loss: 0.2435 - val_accuracy: 0.9100 - val_loss: 0.2389\n",
            "Epoch 15/15\n",
            "\u001b[1m3018/3018\u001b[0m \u001b[32m━━━━━━━━━━━━━━━━━━━━\u001b[0m\u001b[37m\u001b[0m \u001b[1m10s\u001b[0m 3ms/step - accuracy: 0.9097 - loss: 0.2427 - val_accuracy: 0.9102 - val_loss: 0.2383\n"
          ]
        }
      ]
    },
    {
      "cell_type": "code",
      "source": [
        "# Evaluar el modelo en el conjunto de prueba\n",
        "test_loss, test_accuracy = model.evaluate(X_test_scaled, y_test)\n",
        "print(f'Test Accuracy: {test_accuracy}')"
      ],
      "metadata": {
        "execution": {
          "iopub.status.busy": "2024-04-27T12:25:50.067625Z",
          "iopub.execute_input": "2024-04-27T12:25:50.068278Z",
          "iopub.status.idle": "2024-04-27T12:25:51.684585Z",
          "shell.execute_reply.started": "2024-04-27T12:25:50.068247Z",
          "shell.execute_reply": "2024-04-27T12:25:51.683619Z"
        },
        "id": "RzYEt5JFE3yM",
        "trusted": true,
        "colab": {
          "base_uri": "https://localhost:8080/"
        },
        "outputId": "41bf75eb-9201-4108-8b8f-b48805fa0ba9"
      },
      "execution_count": null,
      "outputs": [
        {
          "output_type": "stream",
          "name": "stdout",
          "text": [
            "\u001b[1m1886/1886\u001b[0m \u001b[32m━━━━━━━━━━━━━━━━━━━━\u001b[0m\u001b[37m\u001b[0m \u001b[1m2s\u001b[0m 886us/step - accuracy: 0.9115 - loss: 0.2376\n",
            "Test Accuracy: 0.9105958938598633\n"
          ]
        }
      ]
    },
    {
      "cell_type": "markdown",
      "source": [
        "**Gráficos de Precisión del Modelo (Training History)**"
      ],
      "metadata": {
        "id": "NocbdflD7Yk4"
      }
    },
    {
      "cell_type": "code",
      "source": [
        "# Graficar la historia de entrenamiento para precisión\n",
        "import matplotlib.pyplot as plt\n",
        "plt.plot(history.history['accuracy'], label='accuracy')\n",
        "plt.plot(history.history['val_accuracy'], label='val_accuracy')\n",
        "plt.xlabel('Epoch')\n",
        "plt.ylabel('Accuracy')\n",
        "plt.legend(loc='lower right')\n",
        "plt.show()"
      ],
      "metadata": {
        "execution": {
          "iopub.status.busy": "2024-04-27T12:26:19.65456Z",
          "iopub.execute_input": "2024-04-27T12:26:19.655394Z",
          "iopub.status.idle": "2024-04-27T12:26:19.939418Z",
          "shell.execute_reply.started": "2024-04-27T12:26:19.655364Z",
          "shell.execute_reply": "2024-04-27T12:26:19.938406Z"
        },
        "id": "ddpyyKhME3yM",
        "trusted": true,
        "colab": {
          "base_uri": "https://localhost:8080/",
          "height": 449
        },
        "outputId": "8e999d21-e118-42b0-b35c-360388381751"
      },
      "execution_count": null,
      "outputs": [
        {
          "output_type": "display_data",
          "data": {
            "text/plain": [
              "<Figure size 640x480 with 1 Axes>"
            ],
            "image/png": "[encoded data removed]"
          },
          "metadata": {}
        }
      ]
    },
    {
      "cell_type": "markdown",
      "source": [
        "**Modelo de red neuronal artifical 2**\n"
      ],
      "metadata": {
        "id": "bkdjhFyEzgxR"
      }
    },
    {
      "cell_type": "code",
      "source": [
        "X = df.drop(['HeartDisease'], axis=1)\n",
        "y = df['HeartDisease']"
      ],
      "metadata": {
        "id": "iw_NtwBxE3yN",
        "trusted": true
      },
      "execution_count": null,
      "outputs": []
    },
    {
      "cell_type": "code",
      "source": [
        "# Separar características (X) y etiqueta (y)\n",
        "X_train, X_test, y_train, y_test = train_test_split(X, y, test_size=0.2, random_state=42)"
      ],
      "metadata": {
        "execution": {
          "iopub.status.busy": "2024-04-27T12:28:48.690886Z",
          "iopub.execute_input": "2024-04-27T12:28:48.691258Z",
          "iopub.status.idle": "2024-04-27T12:28:48.708724Z",
          "shell.execute_reply.started": "2024-04-27T12:28:48.69123Z",
          "shell.execute_reply": "2024-04-27T12:28:48.707904Z"
        },
        "id": "2EOYC3bp3hFs",
        "trusted": true
      },
      "execution_count": null,
      "outputs": []
    },
    {
      "cell_type": "code",
      "source": [
        "\n",
        "# Scale numerical features\n",
        "scaler = StandardScaler()\n",
        "X_train_scaled = scaler.fit_transform(X_train)\n",
        "X_test_scaled = scaler.transform(X_test)\n",
        "dump(scaler, 'scaler.pkl')"
      ],
      "metadata": {
        "execution": {
          "iopub.status.busy": "2024-04-27T12:28:49.882198Z",
          "iopub.execute_input": "2024-04-27T12:28:49.882577Z",
          "iopub.status.idle": "2024-04-27T12:28:49.900343Z",
          "shell.execute_reply.started": "2024-04-27T12:28:49.882551Z",
          "shell.execute_reply": "2024-04-27T12:28:49.899572Z"
        },
        "id": "jWd9sk0JzaU7",
        "trusted": true,
        "colab": {
          "base_uri": "https://localhost:8080/"
        },
        "outputId": "27193778-9cd3-452c-ad18-52409bceae12"
      },
      "execution_count": null,
      "outputs": [
        {
          "output_type": "execute_result",
          "data": {
            "text/plain": [
              "['scaler.pkl']"
            ]
          },
          "metadata": {},
          "execution_count": 231
        }
      ]
    },
    {
      "cell_type": "code",
      "source": [
        "# Construir un modelo de red neuronal con una estructura diferente\n",
        "model2 = keras.Sequential([\n",
        "    layers.Dense(512, activation='relu', input_shape=[X_train.shape[1]]),\n",
        "    layers.BatchNormalization(),\n",
        "    layers.Dropout(0.2),\n",
        "    layers.Dense(265, activation='relu'),\n",
        "    layers.BatchNormalization(),\n",
        "    layers.Dropout(0.2),\n",
        "    layers.Dense(128, activation='relu'),\n",
        "    layers.BatchNormalization(),\n",
        "    layers.Dropout(0.2),\n",
        "    layers.Dense(64, activation='relu'),\n",
        "    layers.BatchNormalization(),\n",
        "    layers.Dropout(0.2),\n",
        "    layers.Dense(1, activation='sigmoid')\n",
        "])\n"
      ],
      "metadata": {
        "execution": {
          "iopub.status.busy": "2024-04-27T12:28:53.683404Z",
          "iopub.execute_input": "2024-04-27T12:28:53.684233Z",
          "iopub.status.idle": "2024-04-27T12:28:53.785394Z",
          "shell.execute_reply.started": "2024-04-27T12:28:53.684171Z",
          "shell.execute_reply": "2024-04-27T12:28:53.784342Z"
        },
        "id": "R3b8sYFe3hF-",
        "trusted": true
      },
      "execution_count": null,
      "outputs": []
    },
    {
      "cell_type": "code",
      "source": [
        "# Compilar el modelo con el optimizador Adam y la función de pérdida binary_crossentropy\n",
        "model2.compile(optimizer=keras.optimizers.Adam(learning_rate=0.001),\n",
        "              loss='binary_crossentropy',\n",
        "              metrics=['accuracy'])"
      ],
      "metadata": {
        "execution": {
          "iopub.status.busy": "2024-04-27T12:28:53.957782Z",
          "iopub.execute_input": "2024-04-27T12:28:53.958531Z",
          "iopub.status.idle": "2024-04-27T12:28:53.968223Z",
          "shell.execute_reply.started": "2024-04-27T12:28:53.958496Z",
          "shell.execute_reply": "2024-04-27T12:28:53.967176Z"
        },
        "id": "pPxD2FE03hF_",
        "trusted": true
      },
      "execution_count": null,
      "outputs": []
    },
    {
      "cell_type": "code",
      "source": [
        "# Definir un callback para detener el entrenamiento temprano si no hay mejoras\n",
        "early_stopping1 = callbacks.EarlyStopping(\n",
        "    monitor='val_loss', patience=5, restore_best_weights=True\n",
        ")"
      ],
      "metadata": {
        "execution": {
          "iopub.status.busy": "2024-04-27T12:28:54.325893Z",
          "iopub.execute_input": "2024-04-27T12:28:54.326666Z",
          "iopub.status.idle": "2024-04-27T12:28:54.331433Z",
          "shell.execute_reply.started": "2024-04-27T12:28:54.326635Z",
          "shell.execute_reply": "2024-04-27T12:28:54.330183Z"
        },
        "id": "mnv2Vfbk3hF_",
        "trusted": true
      },
      "execution_count": null,
      "outputs": []
    },
    {
      "cell_type": "code",
      "source": [
        "# Entrenar el modelo\n",
        "history = model2.fit(X_train_scaled, y_train, epochs=15, batch_size=64,\n",
        "                    validation_split=0.2, callbacks=[early_stopping1])"
      ],
      "metadata": {
        "execution": {
          "iopub.status.busy": "2024-04-27T12:28:54.630039Z",
          "iopub.execute_input": "2024-04-27T12:28:54.631007Z",
          "iopub.status.idle": "2024-04-27T12:29:31.377286Z",
          "shell.execute_reply.started": "2024-04-27T12:28:54.630967Z",
          "shell.execute_reply": "2024-04-27T12:29:31.37636Z"
        },
        "id": "ZN-3mR3i3hGA",
        "trusted": true,
        "colab": {
          "base_uri": "https://localhost:8080/"
        },
        "outputId": "a04e3719-da6e-49c7-de7d-22d58d9b8e9a"
      },
      "execution_count": null,
      "outputs": [
        {
          "output_type": "stream",
          "name": "stdout",
          "text": [
            "Epoch 1/15\n",
            "\u001b[1m3018/3018\u001b[0m \u001b[32m━━━━━━━━━━━━━━━━━━━━\u001b[0m\u001b[37m\u001b[0m \u001b[1m19s\u001b[0m 6ms/step - accuracy: 0.8661 - loss: 0.3357 - val_accuracy: 0.9101 - val_loss: 0.2408\n",
            "Epoch 2/15\n",
            "\u001b[1m3018/3018\u001b[0m \u001b[32m━━━━━━━━━━━━━━━━━━━━\u001b[0m\u001b[37m\u001b[0m \u001b[1m22s\u001b[0m 6ms/step - accuracy: 0.9098 - loss: 0.2459 - val_accuracy: 0.9099 - val_loss: 0.2429\n",
            "Epoch 3/15\n",
            "\u001b[1m3018/3018\u001b[0m \u001b[32m━━━━━━━━━━━━━━━━━━━━\u001b[0m\u001b[37m\u001b[0m \u001b[1m17s\u001b[0m 6ms/step - accuracy: 0.9105 - loss: 0.2420 - val_accuracy: 0.9098 - val_loss: 0.2406\n",
            "Epoch 4/15\n",
            "\u001b[1m3018/3018\u001b[0m \u001b[32m━━━━━━━━━━━━━━━━━━━━\u001b[0m\u001b[37m\u001b[0m \u001b[1m20s\u001b[0m 6ms/step - accuracy: 0.9099 - loss: 0.2426 - val_accuracy: 0.9096 - val_loss: 0.2404\n",
            "Epoch 5/15\n",
            "\u001b[1m3018/3018\u001b[0m \u001b[32m━━━━━━━━━━━━━━━━━━━━\u001b[0m\u001b[37m\u001b[0m \u001b[1m22s\u001b[0m 6ms/step - accuracy: 0.9106 - loss: 0.2390 - val_accuracy: 0.9105 - val_loss: 0.2396\n",
            "Epoch 6/15\n",
            "\u001b[1m3018/3018\u001b[0m \u001b[32m━━━━━━━━━━━━━━━━━━━━\u001b[0m\u001b[37m\u001b[0m \u001b[1m17s\u001b[0m 6ms/step - accuracy: 0.9107 - loss: 0.2385 - val_accuracy: 0.9103 - val_loss: 0.2380\n",
            "Epoch 7/15\n",
            "\u001b[1m3018/3018\u001b[0m \u001b[32m━━━━━━━━━━━━━━━━━━━━\u001b[0m\u001b[37m\u001b[0m \u001b[1m18s\u001b[0m 6ms/step - accuracy: 0.9107 - loss: 0.2388 - val_accuracy: 0.9102 - val_loss: 0.2387\n",
            "Epoch 8/15\n",
            "\u001b[1m3018/3018\u001b[0m \u001b[32m━━━━━━━━━━━━━━━━━━━━\u001b[0m\u001b[37m\u001b[0m \u001b[1m19s\u001b[0m 6ms/step - accuracy: 0.9110 - loss: 0.2382 - val_accuracy: 0.9104 - val_loss: 0.2382\n",
            "Epoch 9/15\n",
            "\u001b[1m3018/3018\u001b[0m \u001b[32m━━━━━━━━━━━━━━━━━━━━\u001b[0m\u001b[37m\u001b[0m \u001b[1m21s\u001b[0m 6ms/step - accuracy: 0.9104 - loss: 0.2386 - val_accuracy: 0.9099 - val_loss: 0.2382\n",
            "Epoch 10/15\n",
            "\u001b[1m3018/3018\u001b[0m \u001b[32m━━━━━━━━━━━━━━━━━━━━\u001b[0m\u001b[37m\u001b[0m \u001b[1m21s\u001b[0m 6ms/step - accuracy: 0.9112 - loss: 0.2376 - val_accuracy: 0.9102 - val_loss: 0.2382\n",
            "Epoch 11/15\n",
            "\u001b[1m3018/3018\u001b[0m \u001b[32m━━━━━━━━━━━━━━━━━━━━\u001b[0m\u001b[37m\u001b[0m \u001b[1m20s\u001b[0m 6ms/step - accuracy: 0.9119 - loss: 0.2356 - val_accuracy: 0.9102 - val_loss: 0.2378\n",
            "Epoch 12/15\n",
            "\u001b[1m3018/3018\u001b[0m \u001b[32m━━━━━━━━━━━━━━━━━━━━\u001b[0m\u001b[37m\u001b[0m \u001b[1m18s\u001b[0m 6ms/step - accuracy: 0.9116 - loss: 0.2364 - val_accuracy: 0.9106 - val_loss: 0.2381\n",
            "Epoch 13/15\n",
            "\u001b[1m3018/3018\u001b[0m \u001b[32m━━━━━━━━━━━━━━━━━━━━\u001b[0m\u001b[37m\u001b[0m \u001b[1m20s\u001b[0m 6ms/step - accuracy: 0.9115 - loss: 0.2357 - val_accuracy: 0.9102 - val_loss: 0.2379\n",
            "Epoch 14/15\n",
            "\u001b[1m3018/3018\u001b[0m \u001b[32m━━━━━━━━━━━━━━━━━━━━\u001b[0m\u001b[37m\u001b[0m \u001b[1m21s\u001b[0m 6ms/step - accuracy: 0.9115 - loss: 0.2357 - val_accuracy: 0.9106 - val_loss: 0.2380\n",
            "Epoch 15/15\n",
            "\u001b[1m3018/3018\u001b[0m \u001b[32m━━━━━━━━━━━━━━━━━━━━\u001b[0m\u001b[37m\u001b[0m \u001b[1m18s\u001b[0m 6ms/step - accuracy: 0.9103 - loss: 0.2379 - val_accuracy: 0.9100 - val_loss: 0.2378\n"
          ]
        }
      ]
    },
    {
      "cell_type": "code",
      "source": [
        "# Evaluar el modelo en el conjunto de prueba\n",
        "test_loss, test_accuracy2 = model2.evaluate(X_test_scaled, y_test)\n",
        "print(f'Test Accuracy: {test_accuracy2}')"
      ],
      "metadata": {
        "execution": {
          "iopub.status.busy": "2024-04-27T12:25:50.067625Z",
          "iopub.execute_input": "2024-04-27T12:25:50.068278Z",
          "iopub.status.idle": "2024-04-27T12:25:51.684585Z",
          "shell.execute_reply.started": "2024-04-27T12:25:50.068247Z",
          "shell.execute_reply": "2024-04-27T12:25:51.683619Z"
        },
        "id": "7QGyHsJf3hGB",
        "trusted": true,
        "colab": {
          "base_uri": "https://localhost:8080/"
        },
        "outputId": "d066dbe4-5eb0-4c21-fc6e-1df1016437ca"
      },
      "execution_count": null,
      "outputs": [
        {
          "output_type": "stream",
          "name": "stdout",
          "text": [
            "\u001b[1m1886/1886\u001b[0m \u001b[32m━━━━━━━━━━━━━━━━━━━━\u001b[0m\u001b[37m\u001b[0m \u001b[1m2s\u001b[0m 1ms/step - accuracy: 0.9113 - loss: 0.2372\n",
            "Test Accuracy: 0.9108113646507263\n"
          ]
        }
      ]
    },
    {
      "cell_type": "code",
      "source": [
        "# Graficar la historia de entrenamiento para precisión\n",
        "import matplotlib.pyplot as plt\n",
        "plt.plot(history.history['accuracy'], label='accuracy')\n",
        "plt.plot(history.history['val_accuracy'], label='val_accuracy')\n",
        "plt.xlabel('Epoch')\n",
        "plt.ylabel('Accuracy')\n",
        "plt.legend(loc='lower right')\n",
        "plt.show()"
      ],
      "metadata": {
        "execution": {
          "iopub.status.busy": "2024-04-27T12:26:19.65456Z",
          "iopub.execute_input": "2024-04-27T12:26:19.655394Z",
          "iopub.status.idle": "2024-04-27T12:26:19.939418Z",
          "shell.execute_reply.started": "2024-04-27T12:26:19.655364Z",
          "shell.execute_reply": "2024-04-27T12:26:19.938406Z"
        },
        "id": "ietXyAdG3hGB",
        "trusted": true,
        "colab": {
          "base_uri": "https://localhost:8080/",
          "height": 455
        },
        "outputId": "e1f062bf-8bfe-4d49-fd9d-7e26019088a8"
      },
      "execution_count": null,
      "outputs": [
        {
          "output_type": "display_data",
          "data": {
            "text/plain": [
              "<Figure size 640x480 with 1 Axes>"
            ],
            "image/png": "[encoded data removed]"
          },
          "metadata": {}
        }
      ]
    },
    {
      "cell_type": "markdown",
      "source": [
        "**Comparación del arbol de decisión y la red neuronal artificial**"
      ],
      "metadata": {
        "id": "luzym0Tw3wJJ"
      }
    },
    {
      "cell_type": "code",
      "source": [
        "import seaborn as sns\n",
        "\n",
        "# Precisión del árbol de decisión\n",
        "print(\"Árbol de Decisión:\")\n",
        "print(f'Test Accuracy (Decision Tree): {tree_accuracy}')\n",
        "print(classification_report(y_test, y_pred_tree))\n",
        "\n",
        "# Precisión del primer modelo ANN\n",
        "print(\"Primer Modelo ANN:\")\n",
        "print(f'Test Accuracy (ANN Model 1): {test_accuracy}')\n",
        "\n",
        "# Precisión del segundo modelo ANN\n",
        "print(\"Segundo Modelo ANN:\")\n",
        "print(f'Test Accuracy (ANN Model 2): {test_accuracy2}')\n",
        "\n"
      ],
      "metadata": {
        "id": "LBnrFJvS_Iyf",
        "colab": {
          "base_uri": "https://localhost:8080/"
        },
        "outputId": "4bf415e8-e51a-4488-8e26-6c8c813de6fe"
      },
      "execution_count": null,
      "outputs": [
        {
          "output_type": "stream",
          "name": "stdout",
          "text": [
            "Árbol de Decisión:\n",
            "Test Accuracy (Decision Tree): 0.8530922709797163\n",
            "              precision    recall  f1-score   support\n",
            "\n",
            "           0       0.92      0.91      0.92     54894\n",
            "           1       0.22      0.24      0.23      5450\n",
            "\n",
            "    accuracy                           0.85     60344\n",
            "   macro avg       0.57      0.58      0.57     60344\n",
            "weighted avg       0.86      0.85      0.86     60344\n",
            "\n",
            "Primer Modelo ANN:\n",
            "Test Accuracy (ANN Model 1): 0.9105958938598633\n",
            "Segundo Modelo ANN:\n",
            "Test Accuracy (ANN Model 2): 0.9108113646507263\n"
          ]
        }
      ]
    },
    {
      "cell_type": "code",
      "source": [
        "\n",
        "# Comparar las precisiones\n",
        "if test_accuracy > tree_accuracy:\n",
        "    print(\"La red neuronal tiene una mayor precisión que el arbol de decisión.\")\n",
        "else:\n",
        "    print(\"El árbol de decisión tiene una mayor precisión.\")\n",
        "\n",
        "    # Comparar las precisiones de las redes neuronales\n",
        "if test_accuracy > test_accuracy2:\n",
        "    print(\"La red neuronal 1 tiene una mayor precisión.\")\n",
        "else:\n",
        "    print(\"La red neuronal 2 tiene una mayor precisión.\")"
      ],
      "metadata": {
        "colab": {
          "base_uri": "https://localhost:8080/"
        },
        "id": "P_6rSPPgvJGL",
        "outputId": "9dc3502f-b62d-4fce-f13c-73c929e607f1"
      },
      "execution_count": null,
      "outputs": [
        {
          "output_type": "stream",
          "name": "stdout",
          "text": [
            "La red neuronal tiene una mayor precisión que el arbol de decisión.\n",
            "La red neuronal 2 tiene una mayor precisión.\n"
          ]
        }
      ]
    },
    {
      "cell_type": "code",
      "source": [
        "#Se procede a guardar el modelo 2 que tiene mas presición\n",
        "model2.save('modelo_cardiovascular.h5')"
      ],
      "metadata": {
        "id": "CGxOyFziR-9a",
        "colab": {
          "base_uri": "https://localhost:8080/"
        },
        "outputId": "1386d49c-fccd-4611-f86f-debb728f6725"
      },
      "execution_count": null,
      "outputs": [
        {
          "output_type": "stream",
          "name": "stderr",
          "text": [
            "WARNING:absl:You are saving your model as an HDF5 file via `model.save()` or `keras.saving.save_model(model)`. This file format is considered legacy. We recommend using instead the native Keras format, e.g. `model.save('my_model.keras')` or `keras.saving.save_model(model, 'my_model.keras')`. \n"
          ]
        }
      ]
    },
    {
      "cell_type": "markdown",
      "source": [
        "**Predicción utilizando el modelo de red neuronal artificial 2 debido a su alta precisión**"
      ],
      "metadata": {
        "id": "BgSJNPad0Yuw"
      }
    },
    {
      "cell_type": "markdown",
      "source": [
        "**Prediccion de enfermedad cardiovasular**"
      ],
      "metadata": {
        "id": "kXyofTQ_N8Ir"
      }
    },
    {
      "cell_type": "code",
      "source": [
        "\n",
        "# Ejemplo de nueva entrada\n",
        "Luca_Modric = {\n",
        "     'BMI': 20.0,\n",
        "    'Smoking': 1,\n",
        "    'AlcoholDrinking': 0,\n",
        "    'Stroke': 0,\n",
        "    'PhysicalHealth': 3.0,\n",
        "    'MentalHealth': 0.0,\n",
        "    'DiffWalking': 0,\n",
        "    'Sex': 1,\n",
        "    'AgeCategory': 7,\n",
        "    'Race': 3,\n",
        "    'Diabetic': 1,\n",
        "    'PhysicalActivity': 1,\n",
        "    'GenHealth': 3,\n",
        "    'SleepTime': 8.0,\n",
        "    'Asthma': 0,\n",
        "    'KidneyDisease': 0,\n",
        "    'SkinCancer': 1\n",
        "}\n",
        "\n",
        "# Convertir el diccionario a DataFrame\n",
        "nueva_persona_df = pd.DataFrame([Luca_Modric])\n",
        "\n",
        "# Preprocesar los datos de la misma manera que el conjunto de entrenamiento\n",
        "nueva_persona_scaled = scaler.transform(nueva_persona_df)\n",
        "\n",
        "# Realizar la predicción\n",
        "prediccion = model2.predict(nueva_persona_scaled)\n",
        "probabilidad = prediccion[0][0] * 100\n",
        "print(f'Predicción para la persona específica:{prediccion}')\n",
        "print(f'Probabilidad de que la persona tenga la enfermedad cardíaca: {probabilidad:.2f}%')"
      ],
      "metadata": {
        "colab": {
          "base_uri": "https://localhost:8080/"
        },
        "id": "56S3dmcREC--",
        "outputId": "8d2cbad8-88c4-4db0-cc50-9705365fb142"
      },
      "execution_count": null,
      "outputs": [
        {
          "output_type": "stream",
          "name": "stdout",
          "text": [
            "\u001b[1m1/1\u001b[0m \u001b[32m━━━━━━━━━━━━━━━━━━━━\u001b[0m\u001b[37m\u001b[0m \u001b[1m0s\u001b[0m 19ms/step\n",
            "Predicción para la persona específica:[[0.07013701]]\n",
            "Probabilidad de que la persona tenga la enfermedad cardíaca: 7.01%\n"
          ]
        }
      ]
    },
    {
      "cell_type": "markdown",
      "source": [
        "**Prediccion de enfermedad cardiovasular utilizando el modelo entrenado \"modelo_cardiovascular.h5\"**"
      ],
      "metadata": {
        "id": "18CbZYBHSPgA"
      }
    },
    {
      "cell_type": "code",
      "source": [
        "# Cargar el modelo guardado\n",
        "model2 = keras.models.load_model('modelo_cardiovascular.h5')\n",
        "\n",
        "# Recompilar el modelo especificando las métricas nuevamente\n",
        "model2.compile(optimizer=keras.optimizers.Adam(learning_rate=0.001),\n",
        "               loss='binary_crossentropy',\n",
        "               metrics=['accuracy'])\n",
        "\n",
        "# Definir una nueva entrada\n",
        "Luca_Modric = {\n",
        "    'BMI': 20.0,\n",
        "    'Smoking': 1,\n",
        "    'AlcoholDrinking': 0,\n",
        "    'Stroke': 0,\n",
        "    'PhysicalHealth': 3.0,\n",
        "    'MentalHealth': 0.0,\n",
        "    'DiffWalking': 0,\n",
        "    'Sex': 1,\n",
        "    'AgeCategory': 7,\n",
        "    'Race': 3,\n",
        "    'Diabetic': 1,\n",
        "    'PhysicalActivity': 1,\n",
        "    'GenHealth': 3,\n",
        "    'SleepTime': 8.0,\n",
        "    'Asthma': 0,\n",
        "    'KidneyDisease': 0,\n",
        "    'SkinCancer': 1\n",
        "}\n",
        "\n",
        "# Convertir el diccionario a DataFrame\n",
        "nueva_persona_df = pd.DataFrame([Luca_Modric])\n",
        "\n",
        "# Cargar el scaler\n",
        "scaler = load('scaler.pkl')\n",
        "\n",
        "# Normalizar características numéricas usando el scaler ya ajustado\n",
        "nueva_persona_scaled = scaler.transform(nueva_persona_df)\n",
        "\n",
        "# Realizar la predicción con el modelo cargado\n",
        "prediccion = model2.predict(nueva_persona_scaled)\n",
        "probabilidad = prediccion[0][0] * 100\n",
        "print(f'Predicción para la persona específica: {prediccion[0][0]}')\n",
        "print(f'Probabilidad de que la persona tenga la enfermedad cardíaca: {probabilidad:.2f}%')\n"
      ],
      "metadata": {
        "colab": {
          "base_uri": "https://localhost:8080/"
        },
        "id": "YuuSerw8QHv8",
        "outputId": "036fce7e-e320-4338-d4c1-2a89dff1b56a"
      },
      "execution_count": null,
      "outputs": [
        {
          "output_type": "stream",
          "name": "stderr",
          "text": [
            "WARNING:absl:Compiled the loaded model, but the compiled metrics have yet to be built. `model.compile_metrics` will be empty until you train or evaluate the model.\n",
            "WARNING:tensorflow:5 out of the last 8 calls to <function TensorFlowTrainer.make_predict_function.<locals>.one_step_on_data_distributed at 0x7d3699e6d240> triggered tf.function retracing. Tracing is expensive and the excessive number of tracings could be due to (1) creating @tf.function repeatedly in a loop, (2) passing tensors with different shapes, (3) passing Python objects instead of tensors. For (1), please define your @tf.function outside of the loop. For (2), @tf.function has reduce_retracing=True option that can avoid unnecessary retracing. For (3), please refer to https://www.tensorflow.org/guide/function#controlling_retracing and https://www.tensorflow.org/api_docs/python/tf/function for  more details.\n"
          ]
        },
        {
          "output_type": "stream",
          "name": "stdout",
          "text": [
            "\u001b[1m1/1\u001b[0m \u001b[32m━━━━━━━━━━━━━━━━━━━━\u001b[0m\u001b[37m\u001b[0m \u001b[1m0s\u001b[0m 96ms/step\n",
            "Predicción para la persona específica: 0.07013700902462006\n",
            "Probabilidad de que la persona tenga la enfermedad cardíaca: 7.01%\n"
          ]
        }
      ]
    },
    {
      "cell_type": "markdown",
      "source": [
        "# ▶ **Conclusión del proyecto*"
      ],
      "metadata": {
        "id": "2du0BFg4H9Cd"
      }
    },
    {
      "cell_type": "markdown",
      "source": [
        "Nuestro proyecto de aprendizaje profundo sobre el conjunto de datos de enfermedades cardiovasculares tiene como objetivo predecir la presencia o ausencia de enfermedades cardiovasculares en pacientes. El conjunto de datos constaba de 319.795 registros de datos de pacientes con 11 características, incluidas características objetivas, de examen y subjetivas. Utilizamos tres arquitecturas diferentes para nuestros modelos de aprendizaje profundo, logrando una precisión máxima de alrededor del 91% en ambos modelos de red neuronal artificial (ANN). Además, implementamos un modelo de árbol de decisión, cuyo rendimiento mostró una precisión de aproximadamente 85.3%. Los resultados detallados para el árbol de decisión incluyen una precisión de 92% para la clase 0 (sin enfermedad) y 22% para la clase 1 (con enfermedad), con un f1-score de 0.23 para la clase 1, lo que indica un rendimiento limitado en la predicción de la presencia de enfermedad cardiovascular.  Estos resultados sugieren que los modelos de red neuronal pueden haber alcanzado su máximo potencial predictivo con el conjunto de características dado, mientras que el modelo de árbol de decisión presenta limitaciones en la detección de casos positivos."
      ],
      "metadata": {
        "id": "swELNnHuDt9b"
      }
    }
  ]
}